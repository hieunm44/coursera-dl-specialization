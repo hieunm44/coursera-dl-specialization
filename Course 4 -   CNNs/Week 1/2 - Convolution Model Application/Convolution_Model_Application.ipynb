{
 "cells": [
  {
   "cell_type": "markdown",
   "metadata": {},
   "source": [
    "# Convolutional Neural Networks: Application\n",
    "\n",
    "Welcome to Course 4's second assignment! In this notebook, you will:\n",
    "\n",
    "- Create a mood classifer using the TF Keras Sequential API\n",
    "- Build a ConvNet to identify sign language digits using the TF Keras Functional API\n",
    "\n",
    "**After this assignment you will be able to:**\n",
    "\n",
    "- Build and train a ConvNet in TensorFlow for a __binary__ classification problem\n",
    "- Build and train a ConvNet in TensorFlow for a __multiclass__ classification problem\n",
    "- Explain different use cases for the Sequential and Functional APIs\n",
    "\n",
    "To complete this assignment, you should already be familiar with TensorFlow. If you are not, please refer back to the **TensorFlow Tutorial** of the third week of Course 2 (\"**Improving deep neural networks**\")."
   ]
  },
  {
   "cell_type": "markdown",
   "metadata": {},
   "source": [
    "## Table of Contents\n",
    "\n",
    "- [1 - Packages](#1)\n",
    "    - [1.1 - Load the Data and Split the Data into Train/Test Sets](#1-1)\n",
    "- [2 - Layers in TF Keras](#2)\n",
    "- [3 - The Sequential API](#3)\n",
    "    - [3.1 - Create the Sequential Model](#3-1)\n",
    "        - [Exercise 1 - happyModel](#ex-1)\n",
    "    - [3.2 - Train and Evaluate the Model](#3-2)\n",
    "- [4 - The Functional API](#4)\n",
    "    - [4.1 - Load the SIGNS Dataset](#4-1)\n",
    "    - [4.2 - Split the Data into Train/Test Sets](#4-2)\n",
    "    - [4.3 - Forward Propagation](#4-3)\n",
    "        - [Exercise 2 - convolutional_model](#ex-2)\n",
    "    - [4.4 - Train the Model](#4-4)\n",
    "- [5 - History Object](#5)\n",
    "- [6 - Bibliography](#6)"
   ]
  },
  {
   "cell_type": "markdown",
   "metadata": {},
   "source": [
    "<a name='1'></a>\n",
    "## 1 - Packages\n",
    "\n",
    "As usual, begin by loading in the packages."
   ]
  },
  {
   "cell_type": "code",
   "execution_count": 3,
   "metadata": {},
   "outputs": [
    {
     "name": "stderr",
     "output_type": "stream",
     "text": [
      "2023-07-31 21:47:38.707930: I tensorflow/core/util/port.cc:110] oneDNN custom operations are on. You may see slightly different numerical results due to floating-point round-off errors from different computation orders. To turn them off, set the environment variable `TF_ENABLE_ONEDNN_OPTS=0`.\n",
      "2023-07-31 21:47:38.709613: I tensorflow/tsl/cuda/cudart_stub.cc:28] Could not find cuda drivers on your machine, GPU will not be used.\n",
      "2023-07-31 21:47:38.746916: I tensorflow/tsl/cuda/cudart_stub.cc:28] Could not find cuda drivers on your machine, GPU will not be used.\n",
      "2023-07-31 21:47:38.747698: I tensorflow/core/platform/cpu_feature_guard.cc:182] This TensorFlow binary is optimized to use available CPU instructions in performance-critical operations.\n",
      "To enable the following instructions: AVX2 AVX_VNNI FMA, in other operations, rebuild TensorFlow with the appropriate compiler flags.\n",
      "2023-07-31 21:47:39.449357: W tensorflow/compiler/tf2tensorrt/utils/py_utils.cc:38] TF-TRT Warning: Could not find TensorRT\n"
     ]
    }
   ],
   "source": [
    "import math\n",
    "import numpy as np\n",
    "import h5py\n",
    "import matplotlib.pyplot as plt\n",
    "from matplotlib.pyplot import imread\n",
    "import scipy\n",
    "from PIL import Image\n",
    "import pandas as pd\n",
    "import tensorflow as tf\n",
    "import tensorflow.keras.layers as tfl\n",
    "from tensorflow.python.framework import ops\n",
    "from cnn_utils import *\n",
    "from test_utils import summary, comparator\n",
    "\n",
    "%matplotlib inline\n",
    "np.random.seed(1)"
   ]
  },
  {
   "cell_type": "markdown",
   "metadata": {},
   "source": [
    "<a name='1-1'></a>\n",
    "### 1.1 - Load the Data and Split the Data into Train/Test Sets\n",
    "\n",
    "You'll be using the Happy House dataset for this part of the assignment, which contains images of peoples' faces. Your task will be to build a ConvNet that determines whether the people in the images are smiling or not -- because they only get to enter the house if they're smiling!  "
   ]
  },
  {
   "cell_type": "code",
   "execution_count": 2,
   "metadata": {},
   "outputs": [
    {
     "name": "stdout",
     "output_type": "stream",
     "text": [
      "number of training examples = 600\n",
      "number of test examples = 150\n",
      "X_train shape: (600, 64, 64, 3)\n",
      "Y_train shape: (600, 1)\n",
      "X_test shape: (150, 64, 64, 3)\n",
      "Y_test shape: (150, 1)\n"
     ]
    }
   ],
   "source": [
    "X_train_orig, Y_train_orig, X_test_orig, Y_test_orig, classes = load_happy_dataset()\n",
    "\n",
    "# Normalize image vectors\n",
    "X_train = X_train_orig/255.\n",
    "X_test = X_test_orig/255.\n",
    "\n",
    "# Reshape\n",
    "Y_train = Y_train_orig.T\n",
    "Y_test = Y_test_orig.T\n",
    "\n",
    "print (\"number of training examples = \" + str(X_train.shape[0]))\n",
    "print (\"number of test examples = \" + str(X_test.shape[0]))\n",
    "print (\"X_train shape: \" + str(X_train.shape))\n",
    "print (\"Y_train shape: \" + str(Y_train.shape))\n",
    "print (\"X_test shape: \" + str(X_test.shape))\n",
    "print (\"Y_test shape: \" + str(Y_test.shape))"
   ]
  },
  {
   "cell_type": "markdown",
   "metadata": {},
   "source": [
    "You can display the images contained in the dataset. Images are **64x64** pixels in RGB format (3 channels)."
   ]
  },
  {
   "cell_type": "code",
   "execution_count": 3,
   "metadata": {},
   "outputs": [
    {
     "data": {
      "image/png": "[encoded data removed]",
      "text/plain": [
       "<Figure size 432x288 with 1 Axes>"
      ]
     },
     "metadata": {
      "needs_background": "light"
     },
     "output_type": "display_data"
    }
   ],
   "source": [
    "index = 124\n",
    "plt.imshow(X_train_orig[index]) #display sample training image\n",
    "plt.show()"
   ]
  },
  {
   "cell_type": "markdown",
   "metadata": {},
   "source": [
    "<a name='2'></a>\n",
    "## 2 - Layers in TF Keras \n",
    "\n",
    "In the previous assignment, you created layers manually in numpy. In TF Keras, you don't have to write code directly to create layers. Rather, TF Keras has pre-defined layers you can use. \n",
    "\n",
    "When you create a layer in TF Keras, you are creating a function that takes some input and transforms it into an output you can reuse later. Nice and easy! "
   ]
  },
  {
   "cell_type": "markdown",
   "metadata": {},
   "source": [
    "<a name='3'></a>\n",
    "## 3 - The Sequential API\n",
    "\n",
    "In the previous assignment, you built helper functions using `numpy` to understand the mechanics behind convolutional neural networks. Most practical applications of deep learning today are built using programming frameworks, which have many built-in functions you can simply call. Keras is a high-level abstraction built on top of TensorFlow, which allows for even more simplified and optimized model creation and training. \n",
    "\n",
    "For the first part of this assignment, you'll create a model using TF Keras' Sequential API, which allows you to build layer by layer, and is ideal for building models where each layer has **exactly one** input tensor and **one** output tensor. \n",
    "\n",
    "As you'll see, using the Sequential API is simple and straightforward, but is only appropriate for simpler, more straightforward tasks. Later in this notebook you'll spend some time building with a more flexible, powerful alternative: the Functional API. \n",
    " "
   ]
  },
  {
   "cell_type": "markdown",
   "metadata": {},
   "source": [
    "<a name='3-1'></a>\n",
    "### 3.1 - Create the Sequential Model\n",
    "\n",
    "As mentioned earlier, the TensorFlow Keras Sequential API can be used to build simple models with layer operations that proceed in a sequential order. \n",
    "\n",
    "You can also add layers incrementally to a Sequential model with the `.add()` method, or remove them using the `.pop()` method, much like you would in a regular Python list.\n",
    "\n",
    "Actually, you can think of a Sequential model as behaving like a list of layers. Like Python lists, Sequential layers are ordered, and the order in which they are specified matters.  If your model is non-linear or contains layers with multiple inputs or outputs, a Sequential model wouldn't be the right choice!\n",
    "\n",
    "For any layer construction in Keras, you'll need to specify the input shape in advance. This is because in Keras, the shape of the weights is based on the shape of the inputs. The weights are only created when the model first sees some input data. Sequential models can be created by passing a list of layers to the Sequential constructor, like you will do in the next assignment.\n",
    "\n",
    "<a name='ex-1'></a>\n",
    "### Exercise 1 - happyModel\n",
    "\n",
    "Implement the `happyModel` function below to build the following model: `ZEROPAD2D -> CONV2D -> BATCHNORM -> RELU -> MAXPOOL -> FLATTEN -> DENSE`. Take help from [tf.keras.layers](https://www.tensorflow.org/api_docs/python/tf/keras/layers) \n",
    "\n",
    "Also, plug in the following parameters for all the steps:\n",
    "\n",
    " - [ZeroPadding2D](https://www.tensorflow.org/api_docs/python/tf/keras/layers/ZeroPadding2D): padding 3, input shape 64 x 64 x 3\n",
    " - [Conv2D](https://www.tensorflow.org/api_docs/python/tf/keras/layers/Conv2D): Use 32 7x7 filters, stride 1\n",
    " - [BatchNormalization](https://www.tensorflow.org/api_docs/python/tf/keras/layers/BatchNormalization): for axis 3\n",
    " - [ReLU](https://www.tensorflow.org/api_docs/python/tf/keras/layers/ReLU)\n",
    " - [MaxPool2D](https://www.tensorflow.org/api_docs/python/tf/keras/layers/MaxPool2D): Using default parameters\n",
    " - [Flatten](https://www.tensorflow.org/api_docs/python/tf/keras/layers/Flatten) the previous output.\n",
    " - Fully-connected ([Dense](https://www.tensorflow.org/api_docs/python/tf/keras/layers/Dense)) layer: Apply a fully connected layer with 1 neuron and a sigmoid activation. \n",
    " \n",
    " \n",
    " **Hint:**\n",
    " \n",
    " Use **tfl** as shorthand for **tensorflow.keras.layers**"
   ]
  },
  {
   "cell_type": "code",
   "execution_count": 3,
   "metadata": {
    "deletable": false,
    "nbgrader": {
     "cell_type": "code",
     "checksum": "95d28b191f257bdd5b70c7b8952559d5",
     "grade": false,
     "grade_id": "cell-0e56d3fc28b69aec",
     "locked": false,
     "schema_version": 3,
     "solution": true,
     "task": false
    }
   },
   "outputs": [],
   "source": [
    "# GRADED FUNCTION: happyModel\n",
    "\n",
    "def happyModel():\n",
    "    \"\"\"\n",
    "    Implements the forward propagation for the binary classification model:\n",
    "    ZEROPAD2D -> CONV2D -> BATCHNORM -> RELU -> MAXPOOL -> FLATTEN -> DENSE\n",
    "    \n",
    "    Note that for simplicity and grading purposes, you'll hard-code all the values\n",
    "    such as the stride and kernel (filter) sizes. \n",
    "    Normally, functions should take these values as function parameters.\n",
    "    \n",
    "    Arguments:\n",
    "    None\n",
    "\n",
    "    Returns:\n",
    "    model -- TF Keras model (object containing the information for the entire training process) \n",
    "    \"\"\"\n",
    "    model = tf.keras.Sequential([\n",
    "            tf.keras.Input(shape=(64 , 64 ,3)),\n",
    "            ## ZeroPadding2D with padding 3, input shape of 64 x 64 x 3\n",
    "            tfl.ZeroPadding2D(padding=3), # As import tensorflow.keras.layers as tfl\n",
    "            ## Conv2D with 32 7x7 filters and stride of 1\n",
    "            tfl.Conv2D(filters=32,kernel_size=7,strides=1),\n",
    "            ## BatchNormalization for axis 3\n",
    "            tfl.BatchNormalization(axis=3, momentum=0.99, epsilon=0.001),\n",
    "            ## ReLU\n",
    "            tfl.ReLU(),\n",
    "            ## Max Pooling 2D with default parameters\n",
    "            tfl.MaxPool2D(),\n",
    "            ## Flatten layer\n",
    "            tfl.Flatten(),\n",
    "            ## Dense layer with 1 unit for output & 'sigmoid' activation\n",
    "            tfl.Dense(1,activation='sigmoid')\n",
    "        ])\n",
    "    \n",
    "    return model"
   ]
  },
  {
   "cell_type": "code",
   "execution_count": 4,
   "metadata": {
    "deletable": false,
    "editable": false,
    "nbgrader": {
     "cell_type": "code",
     "checksum": "8d3575c950e2e78149be2d05d671c80d",
     "grade": true,
     "grade_id": "cell-e3e1046e5c33d775",
     "locked": true,
     "points": 10,
     "schema_version": 3,
     "solution": false,
     "task": false
    }
   },
   "outputs": [
    {
     "name": "stdout",
     "output_type": "stream",
     "text": [
      "['ZeroPadding2D', (None, 70, 70, 3), 0, ((3, 3), (3, 3))]\n",
      "['Conv2D', (None, 64, 64, 32), 4736, 'valid', 'linear', 'GlorotUniform']\n",
      "['BatchNormalization', (None, 64, 64, 32), 128]\n",
      "['ReLU', (None, 64, 64, 32), 0]\n",
      "['MaxPooling2D', (None, 32, 32, 32), 0, (2, 2), (2, 2), 'valid']\n",
      "['Flatten', (None, 32768), 0]\n",
      "['Dense', (None, 1), 32769, 'sigmoid']\n",
      "\u001b[32mAll tests passed!\u001b[0m\n"
     ]
    }
   ],
   "source": [
    "happy_model = happyModel()\n",
    "# Print a summary for each layer\n",
    "for layer in summary(happy_model):\n",
    "    print(layer)\n",
    "    \n",
    "output = [['ZeroPadding2D', (None, 70, 70, 3), 0, ((3, 3), (3, 3))],\n",
    "            ['Conv2D', (None, 64, 64, 32), 4736, 'valid', 'linear', 'GlorotUniform'],\n",
    "            ['BatchNormalization', (None, 64, 64, 32), 128],\n",
    "            ['ReLU', (None, 64, 64, 32), 0],\n",
    "            ['MaxPooling2D', (None, 32, 32, 32), 0, (2, 2), (2, 2), 'valid'],\n",
    "            ['Flatten', (None, 32768), 0],\n",
    "            ['Dense', (None, 1), 32769, 'sigmoid']]\n",
    "    \n",
    "comparator(summary(happy_model), output)"
   ]
  },
  {
   "cell_type": "markdown",
   "metadata": {},
   "source": [
    "Now that your model is created, you can compile it for training with an optimizer and loss of your choice. When the string `accuracy` is specified as a metric, the type of accuracy used will be automatically converted based on the loss function used. This is one of the many optimizations built into TensorFlow that make your life easier! If you'd like to read more on how the compiler operates, check the docs [here](https://www.tensorflow.org/api_docs/python/tf/keras/Model#compile)."
   ]
  },
  {
   "cell_type": "code",
   "execution_count": 5,
   "metadata": {},
   "outputs": [],
   "source": [
    "happy_model.compile(optimizer='adam',\n",
    "                   loss='binary_crossentropy',\n",
    "                   metrics=['accuracy'])"
   ]
  },
  {
   "cell_type": "markdown",
   "metadata": {},
   "source": [
    "It's time to check your model's parameters with the `.summary()` method. This will display the types of layers you have, the shape of the outputs, and how many parameters are in each layer. "
   ]
  },
  {
   "cell_type": "code",
   "execution_count": 6,
   "metadata": {},
   "outputs": [
    {
     "name": "stdout",
     "output_type": "stream",
     "text": [
      "Model: \"sequential\"\n",
      "_________________________________________________________________\n",
      " Layer (type)                Output Shape              Param #   \n",
      "=================================================================\n",
      " zero_padding2d (ZeroPadding  (None, 70, 70, 3)        0         \n",
      " 2D)                                                             \n",
      "                                                                 \n",
      " conv2d (Conv2D)             (None, 64, 64, 32)        4736      \n",
      "                                                                 \n",
      " batch_normalization (BatchN  (None, 64, 64, 32)       128       \n",
      " ormalization)                                                   \n",
      "                                                                 \n",
      " re_lu (ReLU)                (None, 64, 64, 32)        0         \n",
      "                                                                 \n",
      " max_pooling2d (MaxPooling2D  (None, 32, 32, 32)       0         \n",
      " )                                                               \n",
      "                                                                 \n",
      " flatten (Flatten)           (None, 32768)             0         \n",
      "                                                                 \n",
      " dense (Dense)               (None, 1)                 32769     \n",
      "                                                                 \n",
      "=================================================================\n",
      "Total params: 37,633\n",
      "Trainable params: 37,569\n",
      "Non-trainable params: 64\n",
      "_________________________________________________________________\n"
     ]
    }
   ],
   "source": [
    "happy_model.summary()"
   ]
  },
  {
   "cell_type": "markdown",
   "metadata": {},
   "source": [
    "<a name='3-2'></a>\n",
    "### 3.2 - Train and Evaluate the Model\n",
    "\n",
    "After creating the model, compiling it with your choice of optimizer and loss function, and doing a sanity check on its contents, you are now ready to build! \n",
    "\n",
    "Simply call `.fit()` to train. That's it! No need for mini-batching, saving, or complex backpropagation computations. That's all been done for you, as you're using a TensorFlow dataset with the batches specified already. You do have the option to specify epoch number or minibatch size if you like (for example, in the case of an un-batched dataset)."
   ]
  },
  {
   "cell_type": "code",
   "execution_count": 8,
   "metadata": {},
   "outputs": [
    {
     "name": "stdout",
     "output_type": "stream",
     "text": [
      "Epoch 1/10\n",
      "38/38 [==============================] - 1s 23ms/step - loss: 2.0882 - accuracy: 0.6683\n",
      "Epoch 2/10\n",
      "38/38 [==============================] - 1s 22ms/step - loss: 0.2858 - accuracy: 0.8883\n",
      "Epoch 3/10\n",
      "38/38 [==============================] - 1s 23ms/step - loss: 0.1387 - accuracy: 0.9467\n",
      "Epoch 4/10\n",
      "38/38 [==============================] - 1s 23ms/step - loss: 0.1672 - accuracy: 0.9233\n",
      "Epoch 5/10\n",
      "38/38 [==============================] - 1s 23ms/step - loss: 0.1563 - accuracy: 0.9383\n",
      "Epoch 6/10\n",
      "38/38 [==============================] - 1s 22ms/step - loss: 0.1200 - accuracy: 0.9533\n",
      "Epoch 7/10\n",
      "38/38 [==============================] - 1s 23ms/step - loss: 0.0878 - accuracy: 0.9700\n",
      "Epoch 8/10\n",
      "38/38 [==============================] - 1s 23ms/step - loss: 0.0900 - accuracy: 0.9667\n",
      "Epoch 9/10\n",
      "38/38 [==============================] - 1s 23ms/step - loss: 0.1541 - accuracy: 0.9400\n",
      "Epoch 10/10\n",
      "38/38 [==============================] - 1s 23ms/step - loss: 0.1277 - accuracy: 0.9550\n"
     ]
    },
    {
     "data": {
      "text/plain": [
       "<keras.callbacks.History at 0x7f1d1b12f490>"
      ]
     },
     "execution_count": 8,
     "metadata": {},
     "output_type": "execute_result"
    }
   ],
   "source": [
    "happy_model.fit(X_train, Y_train, epochs=10, batch_size=16)"
   ]
  },
  {
   "cell_type": "markdown",
   "metadata": {},
   "source": [
    "After that completes, just use `.evaluate()` to evaluate against your test set. This function will print the value of the loss function and the performance metrics specified during the compilation of the model. In this case, the `binary_crossentropy` and the `accuracy` respectively."
   ]
  },
  {
   "cell_type": "code",
   "execution_count": 13,
   "metadata": {},
   "outputs": [
    {
     "name": "stdout",
     "output_type": "stream",
     "text": [
      "5/5 [==============================] - 0s 33ms/step - loss: 0.2665 - accuracy: 0.8933\n"
     ]
    },
    {
     "data": {
      "text/plain": [
       "[0.26649928092956543, 0.8933333158493042]"
      ]
     },
     "execution_count": 13,
     "metadata": {},
     "output_type": "execute_result"
    }
   ],
   "source": [
    "happy_model.evaluate(X_test, Y_test)"
   ]
  },
  {
   "cell_type": "markdown",
   "metadata": {},
   "source": [
    "Easy, right? But what if you need to build a model with shared layers, branches, or multiple inputs and outputs? This is where Sequential, with its beautifully simple yet limited functionality, won't be able to help you. \n",
    "\n",
    "Next up: Enter the Functional API, your slightly more complex, highly flexible friend.  "
   ]
  },
  {
   "cell_type": "markdown",
   "metadata": {},
   "source": [
    "<a name='4'></a>\n",
    "## 4 - The Functional API"
   ]
  },
  {
   "cell_type": "markdown",
   "metadata": {},
   "source": [
    "Welcome to the second half of the assignment, where you'll use Keras' flexible [Functional API](https://www.tensorflow.org/guide/keras/functional) to build a ConvNet that can differentiate between 6 sign language digits. \n",
    "\n",
    "The Functional API can handle models with non-linear topology, shared layers, as well as layers with multiple inputs or outputs. Imagine that, where the Sequential API requires the model to move in a linear fashion through its layers, the Functional API allows much more flexibility. Where Sequential is a straight line, a Functional model is a graph, where the nodes of the layers can connect in many more ways than one. \n",
    "\n",
    "In the visual example below, the one possible direction of the movement Sequential model is shown in contrast to a skip connection, which is just one of the many ways a Functional model can be constructed. A skip connection, as you might have guessed, skips some layer in the network and feeds the output to a later layer in the network. Don't worry, you'll be spending more time with skip connections very soon! "
   ]
  },
  {
   "cell_type": "markdown",
   "metadata": {},
   "source": [
    "<img src=\"images/seq_vs_func.png\" style=\"width:350px;height:200px;\">"
   ]
  },
  {
   "cell_type": "markdown",
   "metadata": {},
   "source": [
    "<a name='4-1'></a>\n",
    "### 4.1 - Load the SIGNS Dataset\n",
    "\n",
    "As a reminder, the SIGNS dataset is a collection of 6 signs representing numbers from 0 to 5."
   ]
  },
  {
   "cell_type": "code",
   "execution_count": 7,
   "metadata": {},
   "outputs": [],
   "source": [
    "# Loading the data (signs)\n",
    "X_train_orig, Y_train_orig, X_test_orig, Y_test_orig, classes = load_signs_dataset()"
   ]
  },
  {
   "cell_type": "markdown",
   "metadata": {},
   "source": [
    "<img src=\"images/SIGNS.png\" style=\"width:800px;height:300px;\">\n",
    "\n",
    "The next cell will show you an example of a labelled image in the dataset. Feel free to change the value of `index` below and re-run to see different examples. "
   ]
  },
  {
   "cell_type": "code",
   "execution_count": 8,
   "metadata": {},
   "outputs": [
    {
     "name": "stdout",
     "output_type": "stream",
     "text": [
      "y = 4\n"
     ]
    },
    {
     "data": {
      "image/png": "[encoded data removed]",
      "text/plain": [
       "<Figure size 640x480 with 1 Axes>"
      ]
     },
     "metadata": {},
     "output_type": "display_data"
    }
   ],
   "source": [
    "# Example of an image from the dataset\n",
    "index = 9\n",
    "plt.imshow(X_train_orig[index])\n",
    "print (\"y = \" + str(np.squeeze(Y_train_orig[:, index])))"
   ]
  },
  {
   "cell_type": "markdown",
   "metadata": {},
   "source": [
    "<a name='4-2'></a>\n",
    "### 4.2 - Split the Data into Train/Test Sets\n",
    "\n",
    "In Course 2, you built a fully-connected network for this dataset. But since this is an image dataset, it is more natural to apply a ConvNet to it.\n",
    "\n",
    "To get started, let's examine the shapes of your data. "
   ]
  },
  {
   "cell_type": "code",
   "execution_count": 9,
   "metadata": {},
   "outputs": [
    {
     "name": "stdout",
     "output_type": "stream",
     "text": [
      "number of training examples = 1080\n",
      "number of test examples = 120\n",
      "X_train shape: (1080, 64, 64, 3)\n",
      "Y_train shape: (1080, 6)\n",
      "X_test shape: (120, 64, 64, 3)\n",
      "Y_test shape: (120, 6)\n"
     ]
    }
   ],
   "source": [
    "X_train = X_train_orig/255.\n",
    "X_test = X_test_orig/255.\n",
    "Y_train = convert_to_one_hot(Y_train_orig, 6).T\n",
    "Y_test = convert_to_one_hot(Y_test_orig, 6).T\n",
    "print (\"number of training examples = \" + str(X_train.shape[0]))\n",
    "print (\"number of test examples = \" + str(X_test.shape[0]))\n",
    "print (\"X_train shape: \" + str(X_train.shape))\n",
    "print (\"Y_train shape: \" + str(Y_train.shape))\n",
    "print (\"X_test shape: \" + str(X_test.shape))\n",
    "print (\"Y_test shape: \" + str(Y_test.shape))"
   ]
  },
  {
   "cell_type": "markdown",
   "metadata": {},
   "source": [
    "<a name='4-3'></a>\n",
    "### 4.3 - Forward Propagation\n",
    "\n",
    "In TensorFlow, there are built-in functions that implement the convolution steps for you. By now, you should be familiar with how TensorFlow builds computational graphs. In the [Functional API](https://www.tensorflow.org/guide/keras/functional), you create a graph of layers. This is what allows such great flexibility.\n",
    "\n",
    "However, the following model could also be defined using the Sequential API since the information flow is on a single line. But don't deviate. What we want you to learn is to use the functional API.\n",
    "\n",
    "Begin building your graph of layers by creating an input node that functions as a callable object:\n",
    "\n",
    "- **input_img = tf.keras.Input(shape=input_shape):** \n",
    "\n",
    "Then, create a new node in the graph of layers by calling a layer on the `input_img` object: \n",
    "\n",
    "- **tf.keras.layers.Conv2D(filters= ... , kernel_size= ... , padding='same')(input_img):** Read the full documentation on [Conv2D](https://www.tensorflow.org/api_docs/python/tf/keras/layers/Conv2D).\n",
    "\n",
    "- **tf.keras.layers.MaxPool2D(pool_size=(f, f), strides=(s, s), padding='same'):** `MaxPool2D()` downsamples your input using a window of size (f, f) and strides of size (s, s) to carry out max pooling over each window.  For max pooling, you usually operate on a single example at a time and a single channel at a time. Read the full documentation on [MaxPool2D](https://www.tensorflow.org/api_docs/python/tf/keras/layers/MaxPool2D).\n",
    "\n",
    "- **tf.keras.layers.ReLU():** computes the elementwise ReLU of Z (which can be any shape). You can read the full documentation on [ReLU](https://www.tensorflow.org/api_docs/python/tf/keras/layers/ReLU).\n",
    "\n",
    "- **tf.keras.layers.Flatten()**: given a tensor \"P\", this function takes each training (or test) example in the batch and flattens it into a 1D vector.  \n",
    "\n",
    "    * If a tensor P has the shape (batch_size,h,w,c), it returns a flattened tensor with shape (batch_size, k), where $k=h \\times w \\times c$.  \"k\" equals the product of all the dimension sizes other than the first dimension.\n",
    "    \n",
    "    * For example, given a tensor with dimensions [100, 2, 3, 4], it flattens the tensor to be of shape [100, 24], where 24 = 2 * 3 * 4.  You can read the full documentation on [Flatten](https://www.tensorflow.org/api_docs/python/tf/keras/layers/Flatten).\n",
    "\n",
    "- **tf.keras.layers.Dense(units= ... , activation='softmax')(F):** given the flattened input F, it returns the output computed using a fully connected layer. You can read the full documentation on [Dense](https://www.tensorflow.org/api_docs/python/tf/keras/layers/Dense).\n",
    "\n",
    "In the last function above (`tf.keras.layers.Dense()`), the fully connected layer automatically initializes weights in the graph and keeps on training them as you train the model. Hence, you did not need to initialize those weights when initializing the parameters.\n",
    "\n",
    "Lastly, before creating the model, you'll need to define the output using the last of the function's compositions (in this example, a Dense layer): \n",
    "\n",
    "- **outputs = tf.keras.layers.Dense(units=6, activation='softmax')(F)**\n",
    "\n",
    "\n",
    "#### Window, kernel, filter, pool\n",
    "\n",
    "The words \"kernel\" and \"filter\" are used to refer to the same thing. The word \"filter\" accounts for the amount of \"kernels\" that will be used in a single convolution layer. \"Pool\" is the name of the operation that takes the max or average value of the kernels. \n",
    "\n",
    "This is why the parameter `pool_size` refers to `kernel_size`, and you use `(f,f)` to refer to the filter size. \n",
    "\n",
    "Pool size and kernel size refer to the same thing in different objects - They refer to the shape of the window where the operation takes place. "
   ]
  },
  {
   "cell_type": "markdown",
   "metadata": {},
   "source": [
    "<a name='ex-2'></a>\n",
    "### Exercise 2 - convolutional_model\n",
    "\n",
    "Implement the `convolutional_model` function below to build the following model: `CONV2D -> RELU -> MAXPOOL -> CONV2D -> RELU -> MAXPOOL -> FLATTEN -> DENSE`. Use the functions above! \n",
    "\n",
    "Also, plug in the following parameters for all the steps:\n",
    "\n",
    " - [Conv2D](https://www.tensorflow.org/api_docs/python/tf/keras/layers/Conv2D): Use 8 4 by 4 filters, stride 1, padding is \"SAME\"\n",
    " - [ReLU](https://www.tensorflow.org/api_docs/python/tf/keras/layers/ReLU)\n",
    " - [MaxPool2D](https://www.tensorflow.org/api_docs/python/tf/keras/layers/MaxPool2D): Use an 8 by 8 filter size and an 8 by 8 stride, padding is \"SAME\"\n",
    " - **Conv2D**: Use 16 2 by 2 filters, stride 1, padding is \"SAME\"\n",
    " - **ReLU**\n",
    " - **MaxPool2D**: Use a 4 by 4 filter size and a 4 by 4 stride, padding is \"SAME\"\n",
    " - [Flatten](https://www.tensorflow.org/api_docs/python/tf/keras/layers/Flatten) the previous output.\n",
    " - Fully-connected ([Dense](https://www.tensorflow.org/api_docs/python/tf/keras/layers/Dense)) layer: Apply a fully connected layer with 6 neurons and a softmax activation. "
   ]
  },
  {
   "cell_type": "code",
   "execution_count": 26,
   "metadata": {
    "deletable": false,
    "nbgrader": {
     "cell_type": "code",
     "checksum": "f58643806aa8380c96225fc8b4c5e7aa",
     "grade": false,
     "grade_id": "cell-dac51744a9e03f51",
     "locked": false,
     "schema_version": 3,
     "solution": true,
     "task": false
    }
   },
   "outputs": [],
   "source": [
    "# GRADED FUNCTION: convolutional_model\n",
    "\n",
    "def convolutional_model(input_shape):\n",
    "    \"\"\"\n",
    "    Implements the forward propagation for the model:\n",
    "    CONV2D -> RELU -> MAXPOOL -> CONV2D -> RELU -> MAXPOOL -> FLATTEN -> DENSE\n",
    "    \n",
    "    Note that for simplicity and grading purposes, you'll hard-code some values\n",
    "    such as the stride and kernel (filter) sizes. \n",
    "    Normally, functions should take these values as function parameters.\n",
    "    \n",
    "    Arguments:\n",
    "    input_img -- input dataset, of shape (input_shape)\n",
    "\n",
    "    Returns:\n",
    "    model -- TF Keras model (object containing the information for the entire training process) \n",
    "    \"\"\"\n",
    "\n",
    "    input_img = tf.keras.Input(shape=input_shape)\n",
    "    ## CONV2D: 8 filters 4x4, stride of 1, padding 'SAME'\n",
    "    Z1 = tfl.Conv2D(filters= 8. , kernel_size=4, padding='same',strides=1)(input_img)\n",
    "    ## RELU\n",
    "    A1 = tfl.ReLU()(Z1)\n",
    "    ## MAXPOOL: window 8x8, stride 8, padding 'SAME'\n",
    "    P1 = tfl.MaxPool2D(pool_size=8, strides=8, padding='same')(A1)\n",
    "    ## CONV2D: 16 filters 2x2, stride 1, padding 'SAME'\n",
    "    Z2 = tfl.Conv2D(filters= 16. , kernel_size=2 , padding='same',strides=1)(P1)\n",
    "    ## RELU\n",
    "    A2 =  tfl.ReLU()(Z2)\n",
    "    ## MAXPOOL: window 4x4, stride 4, padding 'SAME'\n",
    "    P2 = tfl.MaxPool2D(pool_size=4, strides=4, padding='same')(A2)\n",
    "    ## FLATTEN\n",
    "    F = tfl.Flatten()(P2)\n",
    "    ## Dense layer\n",
    "    ## 6 neurons in output layer. Hint: one of the arguments should be \"activation='softmax'\" \n",
    "    outputs = tfl.Dense(units= 6 , activation='softmax')(F)\n",
    "    model = tf.keras.Model(inputs=input_img, outputs=outputs)\n",
    "    return model"
   ]
  },
  {
   "cell_type": "code",
   "execution_count": 27,
   "metadata": {
    "deletable": false,
    "editable": false,
    "nbgrader": {
     "cell_type": "code",
     "checksum": "483d626949930a0b0ef20997e7c6ba72",
     "grade": true,
     "grade_id": "cell-45d22e92042174c9",
     "locked": true,
     "points": 10,
     "schema_version": 3,
     "solution": false,
     "task": false
    }
   },
   "outputs": [
    {
     "name": "stdout",
     "output_type": "stream",
     "text": [
      "Model: \"model_12\"\n",
      "_________________________________________________________________\n",
      " Layer (type)                Output Shape              Param #   \n",
      "=================================================================\n",
      " input_13 (InputLayer)       [(None, 64, 64, 3)]       0         \n",
      "                                                                 \n",
      " conv2d_24 (Conv2D)          (None, 64, 64, 8)         392       \n",
      "                                                                 \n"
     ]
    },
    {
     "name": "stdout",
     "output_type": "stream",
     "text": [
      " re_lu_24 (ReLU)             (None, 64, 64, 8)         0         \n",
      "                                                                 \n",
      " max_pooling2d_24 (MaxPoolin  (None, 8, 8, 8)          0         \n",
      " g2D)                                                            \n",
      "                                                                 \n",
      " conv2d_25 (Conv2D)          (None, 8, 8, 16)          528       \n",
      "                                                                 \n",
      " re_lu_25 (ReLU)             (None, 8, 8, 16)          0         \n",
      "                                                                 \n",
      " max_pooling2d_25 (MaxPoolin  (None, 2, 2, 16)         0         \n",
      " g2D)                                                            \n",
      "                                                                 \n",
      " flatten_12 (Flatten)        (None, 64)                0         \n",
      "                                                                 \n",
      " dense_12 (Dense)            (None, 6)                 390       \n",
      "                                                                 \n",
      "=================================================================\n",
      "Total params: 1,310\n",
      "Trainable params: 1,310\n",
      "Non-trainable params: 0\n",
      "_________________________________________________________________\n",
      "\u001b[32mAll tests passed!\u001b[0m\n"
     ]
    }
   ],
   "source": [
    "conv_model = convolutional_model((64, 64, 3))\n",
    "conv_model.compile(optimizer='adam',\n",
    "                  loss='categorical_crossentropy',\n",
    "                  metrics=['accuracy'])\n",
    "conv_model.summary()\n",
    "    \n",
    "output = [['InputLayer', [(None, 64, 64, 3)], 0],\n",
    "        ['Conv2D', (None, 64, 64, 8), 392, 'same', 'linear', 'GlorotUniform'],\n",
    "        ['ReLU', (None, 64, 64, 8), 0],\n",
    "        ['MaxPooling2D', (None, 8, 8, 8), 0, (8, 8), (8, 8), 'same'],\n",
    "        ['Conv2D', (None, 8, 8, 16), 528, 'same', 'linear', 'GlorotUniform'],\n",
    "        ['ReLU', (None, 8, 8, 16), 0],\n",
    "        ['MaxPooling2D', (None, 2, 2, 16), 0, (4, 4), (4, 4), 'same'],\n",
    "        ['Flatten', (None, 64), 0],\n",
    "        ['Dense', (None, 6), 390, 'softmax']]\n",
    "    \n",
    "comparator(summary(conv_model), output)"
   ]
  },
  {
   "cell_type": "markdown",
   "metadata": {},
   "source": [
    "Both the Sequential and Functional APIs return a TF Keras model object. The only difference is how inputs are handled inside the object model! "
   ]
  },
  {
   "cell_type": "markdown",
   "metadata": {},
   "source": [
    "<a name='4-4'></a>\n",
    "### 4.4 - Train the Model"
   ]
  },
  {
   "cell_type": "code",
   "execution_count": 13,
   "metadata": {},
   "outputs": [
    {
     "name": "stdout",
     "output_type": "stream",
     "text": [
      "Epoch 1/100\n",
      "10/10 [==============================] - 1s 29ms/step - loss: 1.8079 - accuracy: 0.0167 - val_loss: 1.5754 - val_accuracy: 0.5333\n",
      "Epoch 2/100\n",
      "10/10 [==============================] - 0s 20ms/step - loss: 1.4812 - accuracy: 0.4983 - val_loss: 1.3071 - val_accuracy: 0.5600\n",
      "Epoch 3/100\n",
      "10/10 [==============================] - 0s 20ms/step - loss: 1.1810 - accuracy: 0.5000 - val_loss: 0.9677 - val_accuracy: 0.5600\n",
      "Epoch 4/100\n",
      "10/10 [==============================] - 0s 20ms/step - loss: 0.8665 - accuracy: 0.4983 - val_loss: 0.7342 - val_accuracy: 0.6133\n",
      "Epoch 5/100\n",
      "10/10 [==============================] - 0s 20ms/step - loss: 0.7144 - accuracy: 0.6200 - val_loss: 0.6922 - val_accuracy: 0.5133\n",
      "Epoch 6/100\n",
      "10/10 [==============================] - 0s 20ms/step - loss: 0.6847 - accuracy: 0.6167 - val_loss: 0.6640 - val_accuracy: 0.7133\n",
      "Epoch 7/100\n",
      "10/10 [==============================] - 0s 20ms/step - loss: 0.6673 - accuracy: 0.7017 - val_loss: 0.6592 - val_accuracy: 0.7067\n",
      "Epoch 8/100\n",
      "10/10 [==============================] - 0s 21ms/step - loss: 0.6559 - accuracy: 0.7500 - val_loss: 0.6483 - val_accuracy: 0.8000\n",
      "Epoch 9/100\n",
      "10/10 [==============================] - 0s 20ms/step - loss: 0.6451 - accuracy: 0.7917 - val_loss: 0.6444 - val_accuracy: 0.7867\n",
      "Epoch 10/100\n",
      "10/10 [==============================] - 0s 20ms/step - loss: 0.6372 - accuracy: 0.7867 - val_loss: 0.6371 - val_accuracy: 0.8067\n",
      "Epoch 11/100\n",
      "10/10 [==============================] - 0s 21ms/step - loss: 0.6287 - accuracy: 0.7917 - val_loss: 0.6282 - val_accuracy: 0.8267\n",
      "Epoch 12/100\n",
      "10/10 [==============================] - 0s 21ms/step - loss: 0.6196 - accuracy: 0.8067 - val_loss: 0.6218 - val_accuracy: 0.8267\n",
      "Epoch 13/100\n",
      "10/10 [==============================] - 0s 20ms/step - loss: 0.6117 - accuracy: 0.8100 - val_loss: 0.6143 - val_accuracy: 0.8400\n",
      "Epoch 14/100\n",
      "10/10 [==============================] - 0s 20ms/step - loss: 0.6030 - accuracy: 0.8150 - val_loss: 0.6071 - val_accuracy: 0.8467\n",
      "Epoch 15/100\n",
      "10/10 [==============================] - 0s 20ms/step - loss: 0.5942 - accuracy: 0.8200 - val_loss: 0.5994 - val_accuracy: 0.8333\n",
      "Epoch 16/100\n",
      "10/10 [==============================] - 0s 22ms/step - loss: 0.5849 - accuracy: 0.8300 - val_loss: 0.5926 - val_accuracy: 0.8200\n",
      "Epoch 17/100\n",
      "10/10 [==============================] - 0s 21ms/step - loss: 0.5755 - accuracy: 0.8267 - val_loss: 0.5863 - val_accuracy: 0.8000\n",
      "Epoch 18/100\n",
      "10/10 [==============================] - 0s 20ms/step - loss: 0.5662 - accuracy: 0.8267 - val_loss: 0.5797 - val_accuracy: 0.8000\n",
      "Epoch 19/100\n",
      "10/10 [==============================] - 0s 21ms/step - loss: 0.5564 - accuracy: 0.8250 - val_loss: 0.5728 - val_accuracy: 0.8067\n",
      "Epoch 20/100\n",
      "10/10 [==============================] - 0s 21ms/step - loss: 0.5465 - accuracy: 0.8317 - val_loss: 0.5655 - val_accuracy: 0.7933\n",
      "Epoch 21/100\n",
      "10/10 [==============================] - 0s 21ms/step - loss: 0.5364 - accuracy: 0.8333 - val_loss: 0.5588 - val_accuracy: 0.7600\n",
      "Epoch 22/100\n",
      "10/10 [==============================] - 0s 20ms/step - loss: 0.5264 - accuracy: 0.8333 - val_loss: 0.5515 - val_accuracy: 0.7400\n",
      "Epoch 23/100\n",
      "10/10 [==============================] - 0s 21ms/step - loss: 0.5164 - accuracy: 0.8317 - val_loss: 0.5449 - val_accuracy: 0.7400\n",
      "Epoch 24/100\n",
      "10/10 [==============================] - 0s 20ms/step - loss: 0.5067 - accuracy: 0.8317 - val_loss: 0.5383 - val_accuracy: 0.7333\n",
      "Epoch 25/100\n",
      "10/10 [==============================] - 0s 20ms/step - loss: 0.4967 - accuracy: 0.8300 - val_loss: 0.5308 - val_accuracy: 0.7333\n",
      "Epoch 26/100\n",
      "10/10 [==============================] - 0s 21ms/step - loss: 0.4858 - accuracy: 0.8433 - val_loss: 0.5231 - val_accuracy: 0.7400\n",
      "Epoch 27/100\n",
      "10/10 [==============================] - 0s 21ms/step - loss: 0.4755 - accuracy: 0.8483 - val_loss: 0.5164 - val_accuracy: 0.7400\n",
      "Epoch 28/100\n",
      "10/10 [==============================] - 0s 21ms/step - loss: 0.4658 - accuracy: 0.8483 - val_loss: 0.5098 - val_accuracy: 0.7400\n",
      "Epoch 29/100\n",
      "10/10 [==============================] - 0s 21ms/step - loss: 0.4563 - accuracy: 0.8517 - val_loss: 0.5028 - val_accuracy: 0.7467\n",
      "Epoch 30/100\n",
      "10/10 [==============================] - 0s 19ms/step - loss: 0.4469 - accuracy: 0.8533 - val_loss: 0.4943 - val_accuracy: 0.7467\n",
      "Epoch 31/100\n",
      "10/10 [==============================] - 0s 20ms/step - loss: 0.4375 - accuracy: 0.8583 - val_loss: 0.4870 - val_accuracy: 0.7533\n",
      "Epoch 32/100\n",
      "10/10 [==============================] - 0s 22ms/step - loss: 0.4286 - accuracy: 0.8633 - val_loss: 0.4796 - val_accuracy: 0.7600\n",
      "Epoch 33/100\n",
      "10/10 [==============================] - 0s 20ms/step - loss: 0.4200 - accuracy: 0.8650 - val_loss: 0.4722 - val_accuracy: 0.7600\n",
      "Epoch 34/100\n",
      "10/10 [==============================] - 0s 20ms/step - loss: 0.4116 - accuracy: 0.8683 - val_loss: 0.4646 - val_accuracy: 0.7600\n",
      "Epoch 35/100\n",
      "10/10 [==============================] - 0s 20ms/step - loss: 0.4034 - accuracy: 0.8717 - val_loss: 0.4575 - val_accuracy: 0.7600\n",
      "Epoch 36/100\n",
      "10/10 [==============================] - 0s 20ms/step - loss: 0.3955 - accuracy: 0.8767 - val_loss: 0.4509 - val_accuracy: 0.7600\n",
      "Epoch 37/100\n",
      "10/10 [==============================] - 0s 21ms/step - loss: 0.3881 - accuracy: 0.8833 - val_loss: 0.4450 - val_accuracy: 0.7600\n",
      "Epoch 38/100\n",
      "10/10 [==============================] - 0s 20ms/step - loss: 0.3810 - accuracy: 0.8867 - val_loss: 0.4395 - val_accuracy: 0.7600\n",
      "Epoch 39/100\n",
      "10/10 [==============================] - 0s 20ms/step - loss: 0.3741 - accuracy: 0.8850 - val_loss: 0.4342 - val_accuracy: 0.7600\n",
      "Epoch 40/100\n",
      "10/10 [==============================] - 0s 20ms/step - loss: 0.3673 - accuracy: 0.8850 - val_loss: 0.4288 - val_accuracy: 0.7600\n",
      "Epoch 41/100\n",
      "10/10 [==============================] - 0s 19ms/step - loss: 0.3608 - accuracy: 0.8850 - val_loss: 0.4234 - val_accuracy: 0.7600\n",
      "Epoch 42/100\n",
      "10/10 [==============================] - 0s 20ms/step - loss: 0.3543 - accuracy: 0.8900 - val_loss: 0.4178 - val_accuracy: 0.7600\n",
      "Epoch 43/100\n",
      "10/10 [==============================] - 0s 20ms/step - loss: 0.3481 - accuracy: 0.8917 - val_loss: 0.4123 - val_accuracy: 0.7667\n",
      "Epoch 44/100\n",
      "10/10 [==============================] - 0s 20ms/step - loss: 0.3420 - accuracy: 0.8950 - val_loss: 0.4070 - val_accuracy: 0.7733\n",
      "Epoch 45/100\n",
      "10/10 [==============================] - 0s 20ms/step - loss: 0.3363 - accuracy: 0.8983 - val_loss: 0.4026 - val_accuracy: 0.7867\n",
      "Epoch 46/100\n",
      "10/10 [==============================] - 0s 21ms/step - loss: 0.3308 - accuracy: 0.9000 - val_loss: 0.3978 - val_accuracy: 0.7867\n",
      "Epoch 47/100\n",
      "10/10 [==============================] - 0s 21ms/step - loss: 0.3255 - accuracy: 0.9067 - val_loss: 0.3934 - val_accuracy: 0.8000\n",
      "Epoch 48/100\n",
      "10/10 [==============================] - 0s 21ms/step - loss: 0.3202 - accuracy: 0.9083 - val_loss: 0.3885 - val_accuracy: 0.8133\n",
      "Epoch 49/100\n",
      "10/10 [==============================] - 0s 21ms/step - loss: 0.3151 - accuracy: 0.9083 - val_loss: 0.3840 - val_accuracy: 0.8133\n",
      "Epoch 50/100\n",
      "10/10 [==============================] - 0s 21ms/step - loss: 0.3102 - accuracy: 0.9050 - val_loss: 0.3795 - val_accuracy: 0.8133\n",
      "Epoch 51/100\n",
      "10/10 [==============================] - 0s 21ms/step - loss: 0.3053 - accuracy: 0.9083 - val_loss: 0.3753 - val_accuracy: 0.8133\n",
      "Epoch 52/100\n",
      "10/10 [==============================] - 0s 20ms/step - loss: 0.3006 - accuracy: 0.9083 - val_loss: 0.3706 - val_accuracy: 0.8267\n",
      "Epoch 53/100\n",
      "10/10 [==============================] - 0s 20ms/step - loss: 0.2962 - accuracy: 0.9117 - val_loss: 0.3673 - val_accuracy: 0.8333\n",
      "Epoch 54/100\n",
      "10/10 [==============================] - 0s 21ms/step - loss: 0.2919 - accuracy: 0.9133 - val_loss: 0.3632 - val_accuracy: 0.8333\n",
      "Epoch 55/100\n",
      "10/10 [==============================] - 0s 21ms/step - loss: 0.2879 - accuracy: 0.9100 - val_loss: 0.3599 - val_accuracy: 0.8400\n",
      "Epoch 56/100\n",
      "10/10 [==============================] - 0s 20ms/step - loss: 0.2840 - accuracy: 0.9100 - val_loss: 0.3568 - val_accuracy: 0.8400\n",
      "Epoch 57/100\n",
      "10/10 [==============================] - 0s 20ms/step - loss: 0.2802 - accuracy: 0.9117 - val_loss: 0.3534 - val_accuracy: 0.8400\n",
      "Epoch 58/100\n",
      "10/10 [==============================] - 0s 21ms/step - loss: 0.2763 - accuracy: 0.9100 - val_loss: 0.3500 - val_accuracy: 0.8467\n",
      "Epoch 59/100\n",
      "10/10 [==============================] - 0s 21ms/step - loss: 0.2726 - accuracy: 0.9100 - val_loss: 0.3468 - val_accuracy: 0.8467\n",
      "Epoch 60/100\n",
      "10/10 [==============================] - 0s 21ms/step - loss: 0.2689 - accuracy: 0.9117 - val_loss: 0.3434 - val_accuracy: 0.8467\n",
      "Epoch 61/100\n",
      "10/10 [==============================] - 0s 21ms/step - loss: 0.2652 - accuracy: 0.9133 - val_loss: 0.3400 - val_accuracy: 0.8533\n",
      "Epoch 62/100\n",
      "10/10 [==============================] - 0s 20ms/step - loss: 0.2618 - accuracy: 0.9167 - val_loss: 0.3371 - val_accuracy: 0.8533\n",
      "Epoch 63/100\n",
      "10/10 [==============================] - 0s 21ms/step - loss: 0.2584 - accuracy: 0.9183 - val_loss: 0.3347 - val_accuracy: 0.8533\n",
      "Epoch 64/100\n",
      "10/10 [==============================] - 0s 21ms/step - loss: 0.2551 - accuracy: 0.9183 - val_loss: 0.3324 - val_accuracy: 0.8533\n",
      "Epoch 65/100\n",
      "10/10 [==============================] - 0s 21ms/step - loss: 0.2519 - accuracy: 0.9183 - val_loss: 0.3298 - val_accuracy: 0.8667\n",
      "Epoch 66/100\n",
      "10/10 [==============================] - 0s 20ms/step - loss: 0.2486 - accuracy: 0.9183 - val_loss: 0.3273 - val_accuracy: 0.8733\n",
      "Epoch 67/100\n",
      "10/10 [==============================] - 0s 22ms/step - loss: 0.2455 - accuracy: 0.9183 - val_loss: 0.3245 - val_accuracy: 0.8733\n",
      "Epoch 68/100\n",
      "10/10 [==============================] - 0s 21ms/step - loss: 0.2425 - accuracy: 0.9200 - val_loss: 0.3217 - val_accuracy: 0.8733\n",
      "Epoch 69/100\n",
      "10/10 [==============================] - 0s 21ms/step - loss: 0.2395 - accuracy: 0.9200 - val_loss: 0.3190 - val_accuracy: 0.8800\n",
      "Epoch 70/100\n",
      "10/10 [==============================] - 0s 22ms/step - loss: 0.2366 - accuracy: 0.9217 - val_loss: 0.3169 - val_accuracy: 0.8800\n",
      "Epoch 71/100\n",
      "10/10 [==============================] - 0s 21ms/step - loss: 0.2339 - accuracy: 0.9233 - val_loss: 0.3149 - val_accuracy: 0.8800\n",
      "Epoch 72/100\n",
      "10/10 [==============================] - 0s 23ms/step - loss: 0.2312 - accuracy: 0.9233 - val_loss: 0.3130 - val_accuracy: 0.8800\n",
      "Epoch 73/100\n",
      "10/10 [==============================] - 0s 21ms/step - loss: 0.2286 - accuracy: 0.9267 - val_loss: 0.3107 - val_accuracy: 0.8800\n",
      "Epoch 74/100\n",
      "10/10 [==============================] - 0s 21ms/step - loss: 0.2258 - accuracy: 0.9267 - val_loss: 0.3077 - val_accuracy: 0.8800\n",
      "Epoch 75/100\n",
      "10/10 [==============================] - 0s 21ms/step - loss: 0.2234 - accuracy: 0.9267 - val_loss: 0.3059 - val_accuracy: 0.8800\n",
      "Epoch 76/100\n",
      "10/10 [==============================] - 0s 20ms/step - loss: 0.2211 - accuracy: 0.9283 - val_loss: 0.3039 - val_accuracy: 0.8867\n",
      "Epoch 77/100\n",
      "10/10 [==============================] - 0s 21ms/step - loss: 0.2187 - accuracy: 0.9300 - val_loss: 0.3018 - val_accuracy: 0.8867\n",
      "Epoch 78/100\n",
      "10/10 [==============================] - 0s 21ms/step - loss: 0.2163 - accuracy: 0.9300 - val_loss: 0.2996 - val_accuracy: 0.8867\n",
      "Epoch 79/100\n",
      "10/10 [==============================] - 0s 21ms/step - loss: 0.2141 - accuracy: 0.9300 - val_loss: 0.2982 - val_accuracy: 0.8867\n",
      "Epoch 80/100\n",
      "10/10 [==============================] - 0s 21ms/step - loss: 0.2119 - accuracy: 0.9317 - val_loss: 0.2964 - val_accuracy: 0.8867\n",
      "Epoch 81/100\n",
      "10/10 [==============================] - 0s 20ms/step - loss: 0.2098 - accuracy: 0.9317 - val_loss: 0.2945 - val_accuracy: 0.8867\n",
      "Epoch 82/100\n",
      "10/10 [==============================] - 0s 20ms/step - loss: 0.2076 - accuracy: 0.9350 - val_loss: 0.2925 - val_accuracy: 0.8933\n",
      "Epoch 83/100\n",
      "10/10 [==============================] - 0s 21ms/step - loss: 0.2053 - accuracy: 0.9350 - val_loss: 0.2903 - val_accuracy: 0.8933\n",
      "Epoch 84/100\n",
      "10/10 [==============================] - 0s 20ms/step - loss: 0.2033 - accuracy: 0.9383 - val_loss: 0.2887 - val_accuracy: 0.8933\n",
      "Epoch 85/100\n",
      "10/10 [==============================] - 0s 20ms/step - loss: 0.2014 - accuracy: 0.9400 - val_loss: 0.2872 - val_accuracy: 0.8933\n",
      "Epoch 86/100\n",
      "10/10 [==============================] - 0s 21ms/step - loss: 0.1993 - accuracy: 0.9400 - val_loss: 0.2855 - val_accuracy: 0.9000\n",
      "Epoch 87/100\n",
      "10/10 [==============================] - 0s 20ms/step - loss: 0.1972 - accuracy: 0.9400 - val_loss: 0.2836 - val_accuracy: 0.9000\n",
      "Epoch 88/100\n",
      "10/10 [==============================] - 0s 20ms/step - loss: 0.1953 - accuracy: 0.9400 - val_loss: 0.2820 - val_accuracy: 0.9000\n",
      "Epoch 89/100\n",
      "10/10 [==============================] - 0s 20ms/step - loss: 0.1933 - accuracy: 0.9400 - val_loss: 0.2803 - val_accuracy: 0.9000\n",
      "Epoch 90/100\n",
      "10/10 [==============================] - 0s 20ms/step - loss: 0.1915 - accuracy: 0.9417 - val_loss: 0.2789 - val_accuracy: 0.9000\n",
      "Epoch 91/100\n",
      "10/10 [==============================] - 0s 20ms/step - loss: 0.1896 - accuracy: 0.9417 - val_loss: 0.2772 - val_accuracy: 0.9000\n",
      "Epoch 92/100\n",
      "10/10 [==============================] - 0s 21ms/step - loss: 0.1879 - accuracy: 0.9417 - val_loss: 0.2759 - val_accuracy: 0.9000\n",
      "Epoch 93/100\n",
      "10/10 [==============================] - 0s 20ms/step - loss: 0.1862 - accuracy: 0.9417 - val_loss: 0.2743 - val_accuracy: 0.9000\n",
      "Epoch 94/100\n",
      "10/10 [==============================] - 0s 22ms/step - loss: 0.1845 - accuracy: 0.9417 - val_loss: 0.2728 - val_accuracy: 0.9067\n",
      "Epoch 95/100\n",
      "10/10 [==============================] - 0s 20ms/step - loss: 0.1828 - accuracy: 0.9433 - val_loss: 0.2715 - val_accuracy: 0.9133\n",
      "Epoch 96/100\n",
      "10/10 [==============================] - 0s 22ms/step - loss: 0.1810 - accuracy: 0.9433 - val_loss: 0.2697 - val_accuracy: 0.9133\n",
      "Epoch 97/100\n",
      "10/10 [==============================] - 0s 21ms/step - loss: 0.1793 - accuracy: 0.9433 - val_loss: 0.2681 - val_accuracy: 0.9133\n",
      "Epoch 98/100\n",
      "10/10 [==============================] - 0s 20ms/step - loss: 0.1777 - accuracy: 0.9433 - val_loss: 0.2668 - val_accuracy: 0.9133\n",
      "Epoch 99/100\n",
      "10/10 [==============================] - 0s 20ms/step - loss: 0.1760 - accuracy: 0.9433 - val_loss: 0.2654 - val_accuracy: 0.9133\n",
      "Epoch 100/100\n",
      "10/10 [==============================] - 0s 20ms/step - loss: 0.1745 - accuracy: 0.9450 - val_loss: 0.2642 - val_accuracy: 0.9133\n"
     ]
    }
   ],
   "source": [
    "train_dataset = tf.data.Dataset.from_tensor_slices((X_train, Y_train)).batch(64)\n",
    "test_dataset = tf.data.Dataset.from_tensor_slices((X_test, Y_test)).batch(64)\n",
    "history = conv_model.fit(train_dataset, epochs=100, validation_data=test_dataset)"
   ]
  },
  {
   "cell_type": "markdown",
   "metadata": {},
   "source": [
    "<a name='5'></a>\n",
    "## 5 - History Object \n",
    "\n",
    "The history object is an output of the `.fit()` operation, and provides a record of all the loss and metric values in memory. It's stored as a dictionary that you can retrieve at `history.history`: "
   ]
  },
  {
   "cell_type": "code",
   "execution_count": 14,
   "metadata": {},
   "outputs": [
    {
     "data": {
      "text/plain": [
       "{'loss': [1.8079148530960083,\n",
       "  1.4811819791793823,\n",
       "  1.1809501647949219,\n",
       "  0.8664512038230896,\n",
       "  0.7143502831459045,\n",
       "  0.6846839189529419,\n",
       "  0.6672776937484741,\n",
       "  0.6559473872184753,\n",
       "  0.6450715661048889,\n",
       "  0.6372470855712891,\n",
       "  0.6286903023719788,\n",
       "  0.6195914149284363,\n",
       "  0.6116809844970703,\n",
       "  0.6030153632164001,\n",
       "  0.5942155122756958,\n",
       "  0.584893524646759,\n",
       "  0.575516939163208,\n",
       "  0.5661861896514893,\n",
       "  0.5564486384391785,\n",
       "  0.5465235114097595,\n",
       "  0.5363725423812866,\n",
       "  0.5264382362365723,\n",
       "  0.5164065361022949,\n",
       "  0.5066936016082764,\n",
       "  0.4967293441295624,\n",
       "  0.4857689440250397,\n",
       "  0.47546738386154175,\n",
       "  0.46575433015823364,\n",
       "  0.4562731385231018,\n",
       "  0.44687020778656006,\n",
       "  0.43750008940696716,\n",
       "  0.4286264479160309,\n",
       "  0.42002442479133606,\n",
       "  0.4116158187389374,\n",
       "  0.40340960025787354,\n",
       "  0.3955225646495819,\n",
       "  0.38807716965675354,\n",
       "  0.3810158371925354,\n",
       "  0.37409281730651855,\n",
       "  0.36734169721603394,\n",
       "  0.3607909083366394,\n",
       "  0.3543248772621155,\n",
       "  0.3480522036552429,\n",
       "  0.3420400619506836,\n",
       "  0.336264967918396,\n",
       "  0.33083048462867737,\n",
       "  0.3254988491535187,\n",
       "  0.32023856043815613,\n",
       "  0.3150925636291504,\n",
       "  0.31019362807273865,\n",
       "  0.30525505542755127,\n",
       "  0.30062705278396606,\n",
       "  0.2961800694465637,\n",
       "  0.29193955659866333,\n",
       "  0.2878779172897339,\n",
       "  0.28401559591293335,\n",
       "  0.2801623046398163,\n",
       "  0.27634236216545105,\n",
       "  0.2726265788078308,\n",
       "  0.26888415217399597,\n",
       "  0.2652280926704407,\n",
       "  0.26175040006637573,\n",
       "  0.25837332010269165,\n",
       "  0.25511226058006287,\n",
       "  0.25189048051834106,\n",
       "  0.24860946834087372,\n",
       "  0.2454700469970703,\n",
       "  0.24245768785476685,\n",
       "  0.23946337401866913,\n",
       "  0.23659245669841766,\n",
       "  0.23388376832008362,\n",
       "  0.23122276365756989,\n",
       "  0.22859865427017212,\n",
       "  0.2258448749780655,\n",
       "  0.2233724743127823,\n",
       "  0.22106106579303741,\n",
       "  0.21868982911109924,\n",
       "  0.21629996597766876,\n",
       "  0.2141115367412567,\n",
       "  0.21189075708389282,\n",
       "  0.209784135222435,\n",
       "  0.20761485397815704,\n",
       "  0.2053048461675644,\n",
       "  0.20330089330673218,\n",
       "  0.2013571560382843,\n",
       "  0.19934490323066711,\n",
       "  0.1972474753856659,\n",
       "  0.19525818526744843,\n",
       "  0.1933414787054062,\n",
       "  0.19150729477405548,\n",
       "  0.18963676691055298,\n",
       "  0.18789859116077423,\n",
       "  0.18615709245204926,\n",
       "  0.18445941805839539,\n",
       "  0.18275783956050873,\n",
       "  0.18095837533473969,\n",
       "  0.17930004000663757,\n",
       "  0.17768052220344543,\n",
       "  0.17603115737438202,\n",
       "  0.17449764907360077],\n",
       " 'accuracy': [0.01666666753590107,\n",
       "  0.4983333349227905,\n",
       "  0.5,\n",
       "  0.4983333349227905,\n",
       "  0.6200000047683716,\n",
       "  0.6166666746139526,\n",
       "  0.7016666531562805,\n",
       "  0.75,\n",
       "  0.7916666865348816,\n",
       "  0.7866666913032532,\n",
       "  0.7916666865348816,\n",
       "  0.8066666722297668,\n",
       "  0.8100000023841858,\n",
       "  0.8149999976158142,\n",
       "  0.8199999928474426,\n",
       "  0.8299999833106995,\n",
       "  0.8266666531562805,\n",
       "  0.8266666531562805,\n",
       "  0.824999988079071,\n",
       "  0.8316666483879089,\n",
       "  0.8333333134651184,\n",
       "  0.8333333134651184,\n",
       "  0.8316666483879089,\n",
       "  0.8316666483879089,\n",
       "  0.8299999833106995,\n",
       "  0.8433333039283752,\n",
       "  0.8483333587646484,\n",
       "  0.8483333587646484,\n",
       "  0.8516666889190674,\n",
       "  0.8533333539962769,\n",
       "  0.8583333492279053,\n",
       "  0.8633333444595337,\n",
       "  0.8650000095367432,\n",
       "  0.8683333396911621,\n",
       "  0.871666669845581,\n",
       "  0.8766666650772095,\n",
       "  0.8833333253860474,\n",
       "  0.8866666555404663,\n",
       "  0.8849999904632568,\n",
       "  0.8849999904632568,\n",
       "  0.8849999904632568,\n",
       "  0.8899999856948853,\n",
       "  0.8916666507720947,\n",
       "  0.8949999809265137,\n",
       "  0.8983333110809326,\n",
       "  0.8999999761581421,\n",
       "  0.9066666960716248,\n",
       "  0.9083333611488342,\n",
       "  0.9083333611488342,\n",
       "  0.9049999713897705,\n",
       "  0.9083333611488342,\n",
       "  0.9083333611488342,\n",
       "  0.9116666913032532,\n",
       "  0.9133333563804626,\n",
       "  0.9100000262260437,\n",
       "  0.9100000262260437,\n",
       "  0.9116666913032532,\n",
       "  0.9100000262260437,\n",
       "  0.9100000262260437,\n",
       "  0.9116666913032532,\n",
       "  0.9133333563804626,\n",
       "  0.9166666865348816,\n",
       "  0.9183333516120911,\n",
       "  0.9183333516120911,\n",
       "  0.9183333516120911,\n",
       "  0.9183333516120911,\n",
       "  0.9183333516120911,\n",
       "  0.9200000166893005,\n",
       "  0.9200000166893005,\n",
       "  0.92166668176651,\n",
       "  0.9233333468437195,\n",
       "  0.9233333468437195,\n",
       "  0.9266666769981384,\n",
       "  0.9266666769981384,\n",
       "  0.9266666769981384,\n",
       "  0.9283333420753479,\n",
       "  0.9300000071525574,\n",
       "  0.9300000071525574,\n",
       "  0.9300000071525574,\n",
       "  0.9316666722297668,\n",
       "  0.9316666722297668,\n",
       "  0.9350000023841858,\n",
       "  0.9350000023841858,\n",
       "  0.9383333325386047,\n",
       "  0.9399999976158142,\n",
       "  0.9399999976158142,\n",
       "  0.9399999976158142,\n",
       "  0.9399999976158142,\n",
       "  0.9399999976158142,\n",
       "  0.9416666626930237,\n",
       "  0.9416666626930237,\n",
       "  0.9416666626930237,\n",
       "  0.9416666626930237,\n",
       "  0.9416666626930237,\n",
       "  0.9433333277702332,\n",
       "  0.9433333277702332,\n",
       "  0.9433333277702332,\n",
       "  0.9433333277702332,\n",
       "  0.9433333277702332,\n",
       "  0.9449999928474426],\n",
       " 'val_loss': [1.5754101276397705,\n",
       "  1.3070690631866455,\n",
       "  0.9676997065544128,\n",
       "  0.7341557741165161,\n",
       "  0.6921769380569458,\n",
       "  0.6640083193778992,\n",
       "  0.6592268943786621,\n",
       "  0.6483280062675476,\n",
       "  0.644400417804718,\n",
       "  0.6371271014213562,\n",
       "  0.6282386779785156,\n",
       "  0.6218289136886597,\n",
       "  0.6142666339874268,\n",
       "  0.6070539951324463,\n",
       "  0.599448025226593,\n",
       "  0.5926011204719543,\n",
       "  0.5863108038902283,\n",
       "  0.579737663269043,\n",
       "  0.5728135108947754,\n",
       "  0.5655432939529419,\n",
       "  0.5588400363922119,\n",
       "  0.5514513254165649,\n",
       "  0.5448938608169556,\n",
       "  0.5383122563362122,\n",
       "  0.5308298468589783,\n",
       "  0.5231401920318604,\n",
       "  0.5163547992706299,\n",
       "  0.5098432302474976,\n",
       "  0.5027511715888977,\n",
       "  0.49425292015075684,\n",
       "  0.4869740903377533,\n",
       "  0.4795773923397064,\n",
       "  0.47217050194740295,\n",
       "  0.4645899534225464,\n",
       "  0.4575476050376892,\n",
       "  0.4509100317955017,\n",
       "  0.44495004415512085,\n",
       "  0.4395383596420288,\n",
       "  0.43417999148368835,\n",
       "  0.4288027584552765,\n",
       "  0.42339640855789185,\n",
       "  0.41781818866729736,\n",
       "  0.4123423397541046,\n",
       "  0.4070347249507904,\n",
       "  0.4025568962097168,\n",
       "  0.39783334732055664,\n",
       "  0.3933739960193634,\n",
       "  0.3884863555431366,\n",
       "  0.3839932680130005,\n",
       "  0.379484623670578,\n",
       "  0.37527093291282654,\n",
       "  0.37063634395599365,\n",
       "  0.3672526478767395,\n",
       "  0.3631806969642639,\n",
       "  0.3599328100681305,\n",
       "  0.3567502200603485,\n",
       "  0.35338425636291504,\n",
       "  0.35004910826683044,\n",
       "  0.34684547781944275,\n",
       "  0.34336844086647034,\n",
       "  0.34003084897994995,\n",
       "  0.33711978793144226,\n",
       "  0.33469918370246887,\n",
       "  0.3323664963245392,\n",
       "  0.32977187633514404,\n",
       "  0.3273114860057831,\n",
       "  0.3244880437850952,\n",
       "  0.3217124938964844,\n",
       "  0.3189585506916046,\n",
       "  0.3169320821762085,\n",
       "  0.314912348985672,\n",
       "  0.3129519522190094,\n",
       "  0.3107193112373352,\n",
       "  0.3077409267425537,\n",
       "  0.3059459626674652,\n",
       "  0.30385661125183105,\n",
       "  0.3017983138561249,\n",
       "  0.29962483048439026,\n",
       "  0.29821985960006714,\n",
       "  0.2964346408843994,\n",
       "  0.29454365372657776,\n",
       "  0.2924637794494629,\n",
       "  0.2902927100658417,\n",
       "  0.28868648409843445,\n",
       "  0.28717488050460815,\n",
       "  0.2854553163051605,\n",
       "  0.2835948169231415,\n",
       "  0.28196296095848083,\n",
       "  0.2802715301513672,\n",
       "  0.2789483070373535,\n",
       "  0.27720847725868225,\n",
       "  0.2759021520614624,\n",
       "  0.2742660343647003,\n",
       "  0.2728188633918762,\n",
       "  0.271519273519516,\n",
       "  0.2696879804134369,\n",
       "  0.26809000968933105,\n",
       "  0.2668190002441406,\n",
       "  0.26536136865615845,\n",
       "  0.2641969621181488],\n",
       " 'val_accuracy': [0.5333333611488342,\n",
       "  0.5600000023841858,\n",
       "  0.5600000023841858,\n",
       "  0.6133333444595337,\n",
       "  0.5133333206176758,\n",
       "  0.7133333086967468,\n",
       "  0.7066666483879089,\n",
       "  0.800000011920929,\n",
       "  0.7866666913032532,\n",
       "  0.8066666722297668,\n",
       "  0.8266666531562805,\n",
       "  0.8266666531562805,\n",
       "  0.8399999737739563,\n",
       "  0.846666693687439,\n",
       "  0.8333333134651184,\n",
       "  0.8199999928474426,\n",
       "  0.800000011920929,\n",
       "  0.800000011920929,\n",
       "  0.8066666722297668,\n",
       "  0.7933333516120911,\n",
       "  0.7599999904632568,\n",
       "  0.7400000095367432,\n",
       "  0.7400000095367432,\n",
       "  0.7333333492279053,\n",
       "  0.7333333492279053,\n",
       "  0.7400000095367432,\n",
       "  0.7400000095367432,\n",
       "  0.7400000095367432,\n",
       "  0.746666669845581,\n",
       "  0.746666669845581,\n",
       "  0.753333330154419,\n",
       "  0.7599999904632568,\n",
       "  0.7599999904632568,\n",
       "  0.7599999904632568,\n",
       "  0.7599999904632568,\n",
       "  0.7599999904632568,\n",
       "  0.7599999904632568,\n",
       "  0.7599999904632568,\n",
       "  0.7599999904632568,\n",
       "  0.7599999904632568,\n",
       "  0.7599999904632568,\n",
       "  0.7599999904632568,\n",
       "  0.7666666507720947,\n",
       "  0.7733333110809326,\n",
       "  0.7866666913032532,\n",
       "  0.7866666913032532,\n",
       "  0.800000011920929,\n",
       "  0.8133333325386047,\n",
       "  0.8133333325386047,\n",
       "  0.8133333325386047,\n",
       "  0.8133333325386047,\n",
       "  0.8266666531562805,\n",
       "  0.8333333134651184,\n",
       "  0.8333333134651184,\n",
       "  0.8399999737739563,\n",
       "  0.8399999737739563,\n",
       "  0.8399999737739563,\n",
       "  0.846666693687439,\n",
       "  0.846666693687439,\n",
       "  0.846666693687439,\n",
       "  0.8533333539962769,\n",
       "  0.8533333539962769,\n",
       "  0.8533333539962769,\n",
       "  0.8533333539962769,\n",
       "  0.8666666746139526,\n",
       "  0.8733333349227905,\n",
       "  0.8733333349227905,\n",
       "  0.8733333349227905,\n",
       "  0.8799999952316284,\n",
       "  0.8799999952316284,\n",
       "  0.8799999952316284,\n",
       "  0.8799999952316284,\n",
       "  0.8799999952316284,\n",
       "  0.8799999952316284,\n",
       "  0.8799999952316284,\n",
       "  0.8866666555404663,\n",
       "  0.8866666555404663,\n",
       "  0.8866666555404663,\n",
       "  0.8866666555404663,\n",
       "  0.8866666555404663,\n",
       "  0.8866666555404663,\n",
       "  0.8933333158493042,\n",
       "  0.8933333158493042,\n",
       "  0.8933333158493042,\n",
       "  0.8933333158493042,\n",
       "  0.8999999761581421,\n",
       "  0.8999999761581421,\n",
       "  0.8999999761581421,\n",
       "  0.8999999761581421,\n",
       "  0.8999999761581421,\n",
       "  0.8999999761581421,\n",
       "  0.8999999761581421,\n",
       "  0.8999999761581421,\n",
       "  0.9066666960716248,\n",
       "  0.9133333563804626,\n",
       "  0.9133333563804626,\n",
       "  0.9133333563804626,\n",
       "  0.9133333563804626,\n",
       "  0.9133333563804626,\n",
       "  0.9133333563804626]}"
      ]
     },
     "execution_count": 14,
     "metadata": {},
     "output_type": "execute_result"
    }
   ],
   "source": [
    "history.history"
   ]
  },
  {
   "cell_type": "markdown",
   "metadata": {},
   "source": [
    "Now visualize the loss over time using `history.history`: "
   ]
  },
  {
   "cell_type": "code",
   "execution_count": 15,
   "metadata": {},
   "outputs": [
    {
     "name": "stderr",
     "output_type": "stream",
     "text": [
      "/tmp/ipykernel_32058/1650645686.py:5: SettingWithCopyWarning: \n",
      "A value is trying to be set on a copy of a slice from a DataFrame\n",
      "\n",
      "See the caveats in the documentation: https://pandas.pydata.org/pandas-docs/stable/user_guide/indexing.html#returning-a-view-versus-a-copy\n",
      "  df_loss.rename(columns={'loss':'train','val_loss':'validation'},inplace=True)\n",
      "/tmp/ipykernel_32058/1650645686.py:7: SettingWithCopyWarning: \n",
      "A value is trying to be set on a copy of a slice from a DataFrame\n",
      "\n",
      "See the caveats in the documentation: https://pandas.pydata.org/pandas-docs/stable/user_guide/indexing.html#returning-a-view-versus-a-copy\n",
      "  df_acc.rename(columns={'accuracy':'train','val_accuracy':'validation'},inplace=True)\n"
     ]
    },
    {
     "data": {
      "text/plain": [
       "[Text(0.5, 0, 'Epoch'), Text(0, 0.5, 'Accuracy')]"
      ]
     },
     "execution_count": 15,
     "metadata": {},
     "output_type": "execute_result"
    },
    {
     "data": {
      "image/png": "[encoded data removed]",
      "text/plain": [
       "<Figure size 864x576 with 1 Axes>"
      ]
     },
     "metadata": {
      "needs_background": "light"
     },
     "output_type": "display_data"
    },
    {
     "data": {
      "image/png": "[encoded data removed]",
      "text/plain": [
       "<Figure size 864x576 with 1 Axes>"
      ]
     },
     "metadata": {
      "needs_background": "light"
     },
     "output_type": "display_data"
    }
   ],
   "source": [
    "# The history.history[\"loss\"] entry is a dictionary with as many values as epochs that the\n",
    "# model was trained on. \n",
    "df_loss_acc = pd.DataFrame(history.history)\n",
    "df_loss = df_loss_acc[['loss','val_loss']]\n",
    "df_loss.rename(columns={'loss':'train','val_loss':'validation'},inplace=True)\n",
    "df_acc = df_loss_acc[['accuracy','val_accuracy']]\n",
    "df_acc.rename(columns={'accuracy':'train','val_accuracy':'validation'},inplace=True)\n",
    "df_loss.plot(title='Model loss',figsize=(12,8)).set(xlabel='Epoch',ylabel='Loss')\n",
    "df_acc.plot(title='Model Accuracy',figsize=(12,8)).set(xlabel='Epoch',ylabel='Accuracy')"
   ]
  },
  {
   "cell_type": "markdown",
   "metadata": {},
   "source": [
    "**Congratulations**! You've finished the assignment and built two models: One that recognizes  smiles, and another that recognizes SIGN language with almost 80% accuracy on the test set. In addition to that, you now also understand the applications of two Keras APIs: Sequential and Functional. Nicely done! \n",
    "\n",
    "By now, you know a bit about how the Functional API works and may have glimpsed the possibilities. In your next assignment, you'll really get a feel for its power when you get the opportunity to build a very deep ConvNet, using ResNets! "
   ]
  },
  {
   "cell_type": "markdown",
   "metadata": {},
   "source": [
    "<a name='6'></a>\n",
    "## 6 - Bibliography\n",
    "\n",
    "You're always encouraged to read the official documentation. To that end, you can find the docs for the Sequential and Functional APIs here: \n",
    "\n",
    "https://www.tensorflow.org/guide/keras/sequential_model\n",
    "\n",
    "https://www.tensorflow.org/guide/keras/functional"
   ]
  }
 ],
 "metadata": {
  "coursera": {
   "course_slug": "convolutional-neural-networks",
   "graded_item_id": "bwbJV",
   "launcher_item_id": "0TkXB"
  },
  "interpreter": {
   "hash": "31f2aee4e71d21fbe5cf8b01ff0e069b9275f58929596ceb00d14d90e3e16cd6"
  },
  "kernelspec": {
   "display_name": "Python 3.10.6 64-bit",
   "language": "python",
   "name": "python3"
  },
  "language_info": {
   "codemirror_mode": {
    "name": "ipython",
    "version": 3
   },
   "file_extension": ".py",
   "mimetype": "text/x-python",
   "name": "python",
   "nbconvert_exporter": "python",
   "pygments_lexer": "ipython3",
   "version": "3.10.11"
  }
 },
 "nbformat": 4,
 "nbformat_minor": 2
}
