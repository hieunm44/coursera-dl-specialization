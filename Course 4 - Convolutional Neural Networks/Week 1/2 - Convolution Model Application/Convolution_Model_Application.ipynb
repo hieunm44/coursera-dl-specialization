{
 "cells": [
  {
   "cell_type": "markdown",
   "metadata": {},
   "source": [
    "# Convolutional Neural Networks: Application\n",
    "\n",
    "Welcome to Course 4's second assignment! In this notebook, you will:\n",
    "\n",
    "- Create a mood classifer using the TF Keras Sequential API\n",
    "- Build a ConvNet to identify sign language digits using the TF Keras Functional API\n",
    "\n",
    "**After this assignment you will be able to:**\n",
    "\n",
    "- Build and train a ConvNet in TensorFlow for a __binary__ classification problem\n",
    "- Build and train a ConvNet in TensorFlow for a __multiclass__ classification problem\n",
    "- Explain different use cases for the Sequential and Functional APIs\n",
    "\n",
    "To complete this assignment, you should already be familiar with TensorFlow. If you are not, please refer back to the **TensorFlow Tutorial** of the third week of Course 2 (\"**Improving deep neural networks**\")."
   ]
  },
  {
   "cell_type": "markdown",
   "metadata": {},
   "source": [
    "## Table of Contents\n",
    "\n",
    "- [1 - Packages](#1)\n",
    "    - [1.1 - Load the Data and Split the Data into Train/Test Sets](#1-1)\n",
    "- [2 - Layers in TF Keras](#2)\n",
    "- [3 - The Sequential API](#3)\n",
    "    - [3.1 - Create the Sequential Model](#3-1)\n",
    "        - [Exercise 1 - happyModel](#ex-1)\n",
    "    - [3.2 - Train and Evaluate the Model](#3-2)\n",
    "- [4 - The Functional API](#4)\n",
    "    - [4.1 - Load the SIGNS Dataset](#4-1)\n",
    "    - [4.2 - Split the Data into Train/Test Sets](#4-2)\n",
    "    - [4.3 - Forward Propagation](#4-3)\n",
    "        - [Exercise 2 - convolutional_model](#ex-2)\n",
    "    - [4.4 - Train the Model](#4-4)\n",
    "- [5 - History Object](#5)\n",
    "- [6 - Bibliography](#6)"
   ]
  },
  {
   "cell_type": "markdown",
   "metadata": {},
   "source": [
    "<a name='1'></a>\n",
    "## 1 - Packages\n",
    "\n",
    "As usual, begin by loading in the packages."
   ]
  },
  {
   "cell_type": "code",
   "execution_count": 3,
   "metadata": {},
   "outputs": [],
   "source": [
    "import math\n",
    "import numpy as np\n",
    "import h5py\n",
    "import matplotlib.pyplot as plt\n",
    "from matplotlib.pyplot import imread\n",
    "import scipy\n",
    "from PIL import Image\n",
    "import pandas as pd\n",
    "import tensorflow as tf\n",
    "import tensorflow.keras.layers as tfl\n",
    "from tensorflow.python.framework import ops\n",
    "from cnn_utils import *\n",
    "from test_utils import summary, comparator\n",
    "\n",
    "%matplotlib inline\n",
    "np.random.seed(1)"
   ]
  },
  {
   "cell_type": "markdown",
   "metadata": {},
   "source": [
    "<a name='1-1'></a>\n",
    "### 1.1 - Load the Data and Split the Data into Train/Test Sets\n",
    "\n",
    "You'll be using the Happy House dataset for this part of the assignment, which contains images of peoples' faces. Your task will be to build a ConvNet that determines whether the people in the images are smiling or not -- because they only get to enter the house if they're smiling!  "
   ]
  },
  {
   "cell_type": "code",
   "execution_count": 6,
   "metadata": {},
   "outputs": [
    {
     "name": "stdout",
     "output_type": "stream",
     "text": [
      "number of training examples = 600\n",
      "number of test examples = 150\n",
      "X_train shape: (600, 64, 64, 3)\n",
      "Y_train shape: (600, 1)\n",
      "X_test shape: (150, 64, 64, 3)\n",
      "Y_test shape: (150, 1)\n"
     ]
    }
   ],
   "source": [
    "X_train_orig, Y_train_orig, X_test_orig, Y_test_orig, classes = load_happy_dataset()\n",
    "\n",
    "# Normalize image vectors\n",
    "X_train = X_train_orig/255.\n",
    "X_test = X_test_orig/255.\n",
    "\n",
    "# Reshape\n",
    "Y_train = Y_train_orig.T\n",
    "Y_test = Y_test_orig.T\n",
    "\n",
    "print (\"number of training examples = \" + str(X_train.shape[0]))\n",
    "print (\"number of test examples = \" + str(X_test.shape[0]))\n",
    "print (\"X_train shape: \" + str(X_train.shape))\n",
    "print (\"Y_train shape: \" + str(Y_train.shape))\n",
    "print (\"X_test shape: \" + str(X_test.shape))\n",
    "print (\"Y_test shape: \" + str(Y_test.shape))"
   ]
  },
  {
   "cell_type": "markdown",
   "metadata": {},
   "source": [
    "You can display the images contained in the dataset. Images are **64x64** pixels in RGB format (3 channels)."
   ]
  },
  {
   "cell_type": "code",
   "execution_count": 7,
   "metadata": {},
   "outputs": [
    {
     "data": {
      "image/png": "[encoded data removed]",
      "text/plain": [
       "<Figure size 432x288 with 1 Axes>"
      ]
     },
     "metadata": {
      "needs_background": "light"
     },
     "output_type": "display_data"
    }
   ],
   "source": [
    "index = 124\n",
    "plt.imshow(X_train_orig[index]) #display sample training image\n",
    "plt.show()"
   ]
  },
  {
   "cell_type": "markdown",
   "metadata": {},
   "source": [
    "<a name='2'></a>\n",
    "## 2 - Layers in TF Keras \n",
    "\n",
    "In the previous assignment, you created layers manually in numpy. In TF Keras, you don't have to write code directly to create layers. Rather, TF Keras has pre-defined layers you can use. \n",
    "\n",
    "When you create a layer in TF Keras, you are creating a function that takes some input and transforms it into an output you can reuse later. Nice and easy! "
   ]
  },
  {
   "cell_type": "markdown",
   "metadata": {},
   "source": [
    "<a name='3'></a>\n",
    "## 3 - The Sequential API\n",
    "\n",
    "In the previous assignment, you built helper functions using `numpy` to understand the mechanics behind convolutional neural networks. Most practical applications of deep learning today are built using programming frameworks, which have many built-in functions you can simply call. Keras is a high-level abstraction built on top of TensorFlow, which allows for even more simplified and optimized model creation and training. \n",
    "\n",
    "For the first part of this assignment, you'll create a model using TF Keras' Sequential API, which allows you to build layer by layer, and is ideal for building models where each layer has **exactly one** input tensor and **one** output tensor. \n",
    "\n",
    "As you'll see, using the Sequential API is simple and straightforward, but is only appropriate for simpler, more straightforward tasks. Later in this notebook you'll spend some time building with a more flexible, powerful alternative: the Functional API. \n",
    " "
   ]
  },
  {
   "cell_type": "markdown",
   "metadata": {},
   "source": [
    "<a name='3-1'></a>\n",
    "### 3.1 - Create the Sequential Model\n",
    "\n",
    "As mentioned earlier, the TensorFlow Keras Sequential API can be used to build simple models with layer operations that proceed in a sequential order. \n",
    "\n",
    "You can also add layers incrementally to a Sequential model with the `.add()` method, or remove them using the `.pop()` method, much like you would in a regular Python list.\n",
    "\n",
    "Actually, you can think of a Sequential model as behaving like a list of layers. Like Python lists, Sequential layers are ordered, and the order in which they are specified matters.  If your model is non-linear or contains layers with multiple inputs or outputs, a Sequential model wouldn't be the right choice!\n",
    "\n",
    "For any layer construction in Keras, you'll need to specify the input shape in advance. This is because in Keras, the shape of the weights is based on the shape of the inputs. The weights are only created when the model first sees some input data. Sequential models can be created by passing a list of layers to the Sequential constructor, like you will do in the next assignment.\n",
    "\n",
    "<a name='ex-1'></a>\n",
    "### Exercise 1 - happyModel\n",
    "\n",
    "Implement the `happyModel` function below to build the following model: `ZEROPAD2D -> CONV2D -> BATCHNORM -> RELU -> MAXPOOL -> FLATTEN -> DENSE`. Take help from [tf.keras.layers](https://www.tensorflow.org/api_docs/python/tf/keras/layers) \n",
    "\n",
    "Also, plug in the following parameters for all the steps:\n",
    "\n",
    " - [ZeroPadding2D](https://www.tensorflow.org/api_docs/python/tf/keras/layers/ZeroPadding2D): padding 3, input shape 64 x 64 x 3\n",
    " - [Conv2D](https://www.tensorflow.org/api_docs/python/tf/keras/layers/Conv2D): Use 32 7x7 filters, stride 1\n",
    " - [BatchNormalization](https://www.tensorflow.org/api_docs/python/tf/keras/layers/BatchNormalization): for axis 3\n",
    " - [ReLU](https://www.tensorflow.org/api_docs/python/tf/keras/layers/ReLU)\n",
    " - [MaxPool2D](https://www.tensorflow.org/api_docs/python/tf/keras/layers/MaxPool2D): Using default parameters\n",
    " - [Flatten](https://www.tensorflow.org/api_docs/python/tf/keras/layers/Flatten) the previous output.\n",
    " - Fully-connected ([Dense](https://www.tensorflow.org/api_docs/python/tf/keras/layers/Dense)) layer: Apply a fully connected layer with 1 neuron and a sigmoid activation. \n",
    " \n",
    " \n",
    " **Hint:**\n",
    " \n",
    " Use **tfl** as shorthand for **tensorflow.keras.layers**"
   ]
  },
  {
   "cell_type": "code",
   "execution_count": 8,
   "metadata": {
    "deletable": false,
    "nbgrader": {
     "cell_type": "code",
     "checksum": "95d28b191f257bdd5b70c7b8952559d5",
     "grade": false,
     "grade_id": "cell-0e56d3fc28b69aec",
     "locked": false,
     "schema_version": 3,
     "solution": true,
     "task": false
    }
   },
   "outputs": [],
   "source": [
    "# GRADED FUNCTION: happyModel\n",
    "\n",
    "def happyModel():\n",
    "    \"\"\"\n",
    "    Implements the forward propagation for the binary classification model:\n",
    "    ZEROPAD2D -> CONV2D -> BATCHNORM -> RELU -> MAXPOOL -> FLATTEN -> DENSE\n",
    "    \n",
    "    Note that for simplicity and grading purposes, you'll hard-code all the values\n",
    "    such as the stride and kernel (filter) sizes. \n",
    "    Normally, functions should take these values as function parameters.\n",
    "    \n",
    "    Arguments:\n",
    "    None\n",
    "\n",
    "    Returns:\n",
    "    model -- TF Keras model (object containing the information for the entire training process) \n",
    "    \"\"\"\n",
    "    model = tf.keras.Sequential([\n",
    "            tf.keras.Input(shape=(64 , 64 ,3)),\n",
    "            ## ZeroPadding2D with padding 3, input shape of 64 x 64 x 3\n",
    "            tfl.ZeroPadding2D(padding=3), # As import tensorflow.keras.layers as tfl\n",
    "            ## Conv2D with 32 7x7 filters and stride of 1\n",
    "            tfl.Conv2D(filters=32,kernel_size=7,strides=1),\n",
    "            ## BatchNormalization for axis 3\n",
    "            tfl.BatchNormalization(axis=3, momentum=0.99, epsilon=0.001),\n",
    "            ## ReLU\n",
    "            tfl.ReLU(),\n",
    "            ## Max Pooling 2D with default parameters\n",
    "            tfl.MaxPool2D(),\n",
    "            ## Flatten layer\n",
    "            tfl.Flatten(),\n",
    "            ## Dense layer with 1 unit for output & 'sigmoid' activation\n",
    "            tfl.Dense(1,activation='sigmoid')\n",
    "        ])\n",
    "    \n",
    "    return model"
   ]
  },
  {
   "cell_type": "code",
   "execution_count": 9,
   "metadata": {
    "deletable": false,
    "editable": false,
    "nbgrader": {
     "cell_type": "code",
     "checksum": "8d3575c950e2e78149be2d05d671c80d",
     "grade": true,
     "grade_id": "cell-e3e1046e5c33d775",
     "locked": true,
     "points": 10,
     "schema_version": 3,
     "solution": false,
     "task": false
    }
   },
   "outputs": [
    {
     "name": "stdout",
     "output_type": "stream",
     "text": [
      "['ZeroPadding2D', (None, 70, 70, 3), 0, ((3, 3), (3, 3))]\n",
      "['Conv2D', (None, 64, 64, 32), 4736, 'valid', 'linear', 'GlorotUniform']\n",
      "['BatchNormalization', (None, 64, 64, 32), 128]\n",
      "['ReLU', (None, 64, 64, 32), 0]\n",
      "['MaxPooling2D', (None, 32, 32, 32), 0, (2, 2), (2, 2), 'valid']\n",
      "['Flatten', (None, 32768), 0]\n",
      "['Dense', (None, 1), 32769, 'sigmoid']\n",
      "\u001b[32mAll tests passed!\u001b[0m\n"
     ]
    }
   ],
   "source": [
    "happy_model = happyModel()\n",
    "# Print a summary for each layer\n",
    "for layer in summary(happy_model):\n",
    "    print(layer)\n",
    "    \n",
    "output = [['ZeroPadding2D', (None, 70, 70, 3), 0, ((3, 3), (3, 3))],\n",
    "            ['Conv2D', (None, 64, 64, 32), 4736, 'valid', 'linear', 'GlorotUniform'],\n",
    "            ['BatchNormalization', (None, 64, 64, 32), 128],\n",
    "            ['ReLU', (None, 64, 64, 32), 0],\n",
    "            ['MaxPooling2D', (None, 32, 32, 32), 0, (2, 2), (2, 2), 'valid'],\n",
    "            ['Flatten', (None, 32768), 0],\n",
    "            ['Dense', (None, 1), 32769, 'sigmoid']]\n",
    "    \n",
    "comparator(summary(happy_model), output)"
   ]
  },
  {
   "cell_type": "markdown",
   "metadata": {},
   "source": [
    "Now that your model is created, you can compile it for training with an optimizer and loss of your choice. When the string `accuracy` is specified as a metric, the type of accuracy used will be automatically converted based on the loss function used. This is one of the many optimizations built into TensorFlow that make your life easier! If you'd like to read more on how the compiler operates, check the docs [here](https://www.tensorflow.org/api_docs/python/tf/keras/Model#compile)."
   ]
  },
  {
   "cell_type": "code",
   "execution_count": 10,
   "metadata": {},
   "outputs": [],
   "source": [
    "happy_model.compile(optimizer='adam',\n",
    "                   loss='binary_crossentropy',\n",
    "                   metrics=['accuracy'])"
   ]
  },
  {
   "cell_type": "markdown",
   "metadata": {},
   "source": [
    "It's time to check your model's parameters with the `.summary()` method. This will display the types of layers you have, the shape of the outputs, and how many parameters are in each layer. "
   ]
  },
  {
   "cell_type": "code",
   "execution_count": 11,
   "metadata": {},
   "outputs": [
    {
     "name": "stdout",
     "output_type": "stream",
     "text": [
      "Model: \"sequential\"\n",
      "_________________________________________________________________\n",
      " Layer (type)                Output Shape              Param #   \n",
      "=================================================================\n",
      " zero_padding2d (ZeroPadding  (None, 70, 70, 3)        0         \n",
      " 2D)                                                             \n",
      "                                                                 \n",
      " conv2d (Conv2D)             (None, 64, 64, 32)        4736      \n",
      "                                                                 \n",
      " batch_normalization (BatchN  (None, 64, 64, 32)       128       \n",
      " ormalization)                                                   \n",
      "                                                                 \n",
      " re_lu (ReLU)                (None, 64, 64, 32)        0         \n",
      "                                                                 \n",
      " max_pooling2d (MaxPooling2D  (None, 32, 32, 32)       0         \n",
      " )                                                               \n",
      "                                                                 \n",
      " flatten (Flatten)           (None, 32768)             0         \n",
      "                                                                 \n",
      " dense (Dense)               (None, 1)                 32769     \n",
      "                                                                 \n",
      "=================================================================\n",
      "Total params: 37,633\n",
      "Trainable params: 37,569\n",
      "Non-trainable params: 64\n",
      "_________________________________________________________________\n"
     ]
    }
   ],
   "source": [
    "happy_model.summary()"
   ]
  },
  {
   "cell_type": "markdown",
   "metadata": {},
   "source": [
    "<a name='3-2'></a>\n",
    "### 3.2 - Train and Evaluate the Model\n",
    "\n",
    "After creating the model, compiling it with your choice of optimizer and loss function, and doing a sanity check on its contents, you are now ready to build! \n",
    "\n",
    "Simply call `.fit()` to train. That's it! No need for mini-batching, saving, or complex backpropagation computations. That's all been done for you, as you're using a TensorFlow dataset with the batches specified already. You do have the option to specify epoch number or minibatch size if you like (for example, in the case of an un-batched dataset)."
   ]
  },
  {
   "cell_type": "code",
   "execution_count": 12,
   "metadata": {},
   "outputs": [
    {
     "name": "stdout",
     "output_type": "stream",
     "text": [
      "Epoch 1/10\n",
      "38/38 [==============================] - 4s 81ms/step - loss: 1.4819 - accuracy: 0.6983\n",
      "Epoch 2/10\n",
      "38/38 [==============================] - 3s 91ms/step - loss: 0.2268 - accuracy: 0.9083\n",
      "Epoch 3/10\n",
      "38/38 [==============================] - 4s 94ms/step - loss: 0.1516 - accuracy: 0.9433\n",
      "Epoch 4/10\n",
      "38/38 [==============================] - 3s 77ms/step - loss: 0.1247 - accuracy: 0.9450\n",
      "Epoch 5/10\n",
      "38/38 [==============================] - 3s 80ms/step - loss: 0.1542 - accuracy: 0.9350\n",
      "Epoch 6/10\n",
      "38/38 [==============================] - 3s 82ms/step - loss: 0.1648 - accuracy: 0.9400\n",
      "Epoch 7/10\n",
      "38/38 [==============================] - 3s 77ms/step - loss: 0.0802 - accuracy: 0.9767\n",
      "Epoch 8/10\n",
      "38/38 [==============================] - 3s 76ms/step - loss: 0.0533 - accuracy: 0.9800\n",
      "Epoch 9/10\n",
      "38/38 [==============================] - 3s 70ms/step - loss: 0.1165 - accuracy: 0.9550\n",
      "Epoch 10/10\n",
      "38/38 [==============================] - 3s 72ms/step - loss: 0.0561 - accuracy: 0.9850\n"
     ]
    },
    {
     "data": {
      "text/plain": [
       "<keras.callbacks.History at 0x1e6f5755d50>"
      ]
     },
     "execution_count": 12,
     "metadata": {},
     "output_type": "execute_result"
    }
   ],
   "source": [
    "happy_model.fit(X_train, Y_train, epochs=10, batch_size=16)"
   ]
  },
  {
   "cell_type": "markdown",
   "metadata": {},
   "source": [
    "After that completes, just use `.evaluate()` to evaluate against your test set. This function will print the value of the loss function and the performance metrics specified during the compilation of the model. In this case, the `binary_crossentropy` and the `accuracy` respectively."
   ]
  },
  {
   "cell_type": "code",
   "execution_count": 13,
   "metadata": {},
   "outputs": [
    {
     "name": "stdout",
     "output_type": "stream",
     "text": [
      "5/5 [==============================] - 0s 33ms/step - loss: 0.2665 - accuracy: 0.8933\n"
     ]
    },
    {
     "data": {
      "text/plain": [
       "[0.26649928092956543, 0.8933333158493042]"
      ]
     },
     "execution_count": 13,
     "metadata": {},
     "output_type": "execute_result"
    }
   ],
   "source": [
    "happy_model.evaluate(X_test, Y_test)"
   ]
  },
  {
   "cell_type": "markdown",
   "metadata": {},
   "source": [
    "Easy, right? But what if you need to build a model with shared layers, branches, or multiple inputs and outputs? This is where Sequential, with its beautifully simple yet limited functionality, won't be able to help you. \n",
    "\n",
    "Next up: Enter the Functional API, your slightly more complex, highly flexible friend.  "
   ]
  },
  {
   "cell_type": "markdown",
   "metadata": {},
   "source": [
    "<a name='4'></a>\n",
    "## 4 - The Functional API"
   ]
  },
  {
   "cell_type": "markdown",
   "metadata": {},
   "source": [
    "Welcome to the second half of the assignment, where you'll use Keras' flexible [Functional API](https://www.tensorflow.org/guide/keras/functional) to build a ConvNet that can differentiate between 6 sign language digits. \n",
    "\n",
    "The Functional API can handle models with non-linear topology, shared layers, as well as layers with multiple inputs or outputs. Imagine that, where the Sequential API requires the model to move in a linear fashion through its layers, the Functional API allows much more flexibility. Where Sequential is a straight line, a Functional model is a graph, where the nodes of the layers can connect in many more ways than one. \n",
    "\n",
    "In the visual example below, the one possible direction of the movement Sequential model is shown in contrast to a skip connection, which is just one of the many ways a Functional model can be constructed. A skip connection, as you might have guessed, skips some layer in the network and feeds the output to a later layer in the network. Don't worry, you'll be spending more time with skip connections very soon! "
   ]
  },
  {
   "cell_type": "markdown",
   "metadata": {},
   "source": [
    "<img src=\"images/seq_vs_func.png\" style=\"width:350px;height:200px;\">"
   ]
  },
  {
   "cell_type": "markdown",
   "metadata": {},
   "source": [
    "<a name='4-1'></a>\n",
    "### 4.1 - Load the SIGNS Dataset\n",
    "\n",
    "As a reminder, the SIGNS dataset is a collection of 6 signs representing numbers from 0 to 5."
   ]
  },
  {
   "cell_type": "code",
   "execution_count": 16,
   "metadata": {},
   "outputs": [],
   "source": [
    "# Loading the data (signs)\n",
    "X_train_orig, Y_train_orig, X_test_orig, Y_test_orig, classes = load_signs_dataset()"
   ]
  },
  {
   "cell_type": "markdown",
   "metadata": {},
   "source": [
    "<img src=\"images/SIGNS.png\" style=\"width:800px;height:300px;\">\n",
    "\n",
    "The next cell will show you an example of a labelled image in the dataset. Feel free to change the value of `index` below and re-run to see different examples. "
   ]
  },
  {
   "cell_type": "code",
   "execution_count": 17,
   "metadata": {},
   "outputs": [
    {
     "name": "stdout",
     "output_type": "stream",
     "text": [
      "y = 4\n"
     ]
    },
    {
     "data": {
      "image/png": "[encoded data removed]",
      "text/plain": [
       "<Figure size 432x288 with 1 Axes>"
      ]
     },
     "metadata": {
      "needs_background": "light"
     },
     "output_type": "display_data"
    }
   ],
   "source": [
    "# Example of an image from the dataset\n",
    "index = 9\n",
    "plt.imshow(X_train_orig[index])\n",
    "print (\"y = \" + str(np.squeeze(Y_train_orig[:, index])))"
   ]
  },
  {
   "cell_type": "markdown",
   "metadata": {},
   "source": [
    "<a name='4-2'></a>\n",
    "### 4.2 - Split the Data into Train/Test Sets\n",
    "\n",
    "In Course 2, you built a fully-connected network for this dataset. But since this is an image dataset, it is more natural to apply a ConvNet to it.\n",
    "\n",
    "To get started, let's examine the shapes of your data. "
   ]
  },
  {
   "cell_type": "code",
   "execution_count": 18,
   "metadata": {},
   "outputs": [
    {
     "name": "stdout",
     "output_type": "stream",
     "text": [
      "number of training examples = 1080\n",
      "number of test examples = 120\n",
      "X_train shape: (1080, 64, 64, 3)\n",
      "Y_train shape: (1080, 6)\n",
      "X_test shape: (120, 64, 64, 3)\n",
      "Y_test shape: (120, 6)\n"
     ]
    }
   ],
   "source": [
    "X_train = X_train_orig/255.\n",
    "X_test = X_test_orig/255.\n",
    "Y_train = convert_to_one_hot(Y_train_orig, 6).T\n",
    "Y_test = convert_to_one_hot(Y_test_orig, 6).T\n",
    "print (\"number of training examples = \" + str(X_train.shape[0]))\n",
    "print (\"number of test examples = \" + str(X_test.shape[0]))\n",
    "print (\"X_train shape: \" + str(X_train.shape))\n",
    "print (\"Y_train shape: \" + str(Y_train.shape))\n",
    "print (\"X_test shape: \" + str(X_test.shape))\n",
    "print (\"Y_test shape: \" + str(Y_test.shape))"
   ]
  },
  {
   "cell_type": "markdown",
   "metadata": {},
   "source": [
    "<a name='4-3'></a>\n",
    "### 4.3 - Forward Propagation\n",
    "\n",
    "In TensorFlow, there are built-in functions that implement the convolution steps for you. By now, you should be familiar with how TensorFlow builds computational graphs. In the [Functional API](https://www.tensorflow.org/guide/keras/functional), you create a graph of layers. This is what allows such great flexibility.\n",
    "\n",
    "However, the following model could also be defined using the Sequential API since the information flow is on a single line. But don't deviate. What we want you to learn is to use the functional API.\n",
    "\n",
    "Begin building your graph of layers by creating an input node that functions as a callable object:\n",
    "\n",
    "- **input_img = tf.keras.Input(shape=input_shape):** \n",
    "\n",
    "Then, create a new node in the graph of layers by calling a layer on the `input_img` object: \n",
    "\n",
    "- **tf.keras.layers.Conv2D(filters= ... , kernel_size= ... , padding='same')(input_img):** Read the full documentation on [Conv2D](https://www.tensorflow.org/api_docs/python/tf/keras/layers/Conv2D).\n",
    "\n",
    "- **tf.keras.layers.MaxPool2D(pool_size=(f, f), strides=(s, s), padding='same'):** `MaxPool2D()` downsamples your input using a window of size (f, f) and strides of size (s, s) to carry out max pooling over each window.  For max pooling, you usually operate on a single example at a time and a single channel at a time. Read the full documentation on [MaxPool2D](https://www.tensorflow.org/api_docs/python/tf/keras/layers/MaxPool2D).\n",
    "\n",
    "- **tf.keras.layers.ReLU():** computes the elementwise ReLU of Z (which can be any shape). You can read the full documentation on [ReLU](https://www.tensorflow.org/api_docs/python/tf/keras/layers/ReLU).\n",
    "\n",
    "- **tf.keras.layers.Flatten()**: given a tensor \"P\", this function takes each training (or test) example in the batch and flattens it into a 1D vector.  \n",
    "\n",
    "    * If a tensor P has the shape (batch_size,h,w,c), it returns a flattened tensor with shape (batch_size, k), where $k=h \\times w \\times c$.  \"k\" equals the product of all the dimension sizes other than the first dimension.\n",
    "    \n",
    "    * For example, given a tensor with dimensions [100, 2, 3, 4], it flattens the tensor to be of shape [100, 24], where 24 = 2 * 3 * 4.  You can read the full documentation on [Flatten](https://www.tensorflow.org/api_docs/python/tf/keras/layers/Flatten).\n",
    "\n",
    "- **tf.keras.layers.Dense(units= ... , activation='softmax')(F):** given the flattened input F, it returns the output computed using a fully connected layer. You can read the full documentation on [Dense](https://www.tensorflow.org/api_docs/python/tf/keras/layers/Dense).\n",
    "\n",
    "In the last function above (`tf.keras.layers.Dense()`), the fully connected layer automatically initializes weights in the graph and keeps on training them as you train the model. Hence, you did not need to initialize those weights when initializing the parameters.\n",
    "\n",
    "Lastly, before creating the model, you'll need to define the output using the last of the function's compositions (in this example, a Dense layer): \n",
    "\n",
    "- **outputs = tf.keras.layers.Dense(units=6, activation='softmax')(F)**\n",
    "\n",
    "\n",
    "#### Window, kernel, filter, pool\n",
    "\n",
    "The words \"kernel\" and \"filter\" are used to refer to the same thing. The word \"filter\" accounts for the amount of \"kernels\" that will be used in a single convolution layer. \"Pool\" is the name of the operation that takes the max or average value of the kernels. \n",
    "\n",
    "This is why the parameter `pool_size` refers to `kernel_size`, and you use `(f,f)` to refer to the filter size. \n",
    "\n",
    "Pool size and kernel size refer to the same thing in different objects - They refer to the shape of the window where the operation takes place. "
   ]
  },
  {
   "cell_type": "markdown",
   "metadata": {},
   "source": [
    "<a name='ex-2'></a>\n",
    "### Exercise 2 - convolutional_model\n",
    "\n",
    "Implement the `convolutional_model` function below to build the following model: `CONV2D -> RELU -> MAXPOOL -> CONV2D -> RELU -> MAXPOOL -> FLATTEN -> DENSE`. Use the functions above! \n",
    "\n",
    "Also, plug in the following parameters for all the steps:\n",
    "\n",
    " - [Conv2D](https://www.tensorflow.org/api_docs/python/tf/keras/layers/Conv2D): Use 8 4 by 4 filters, stride 1, padding is \"SAME\"\n",
    " - [ReLU](https://www.tensorflow.org/api_docs/python/tf/keras/layers/ReLU)\n",
    " - [MaxPool2D](https://www.tensorflow.org/api_docs/python/tf/keras/layers/MaxPool2D): Use an 8 by 8 filter size and an 8 by 8 stride, padding is \"SAME\"\n",
    " - **Conv2D**: Use 16 2 by 2 filters, stride 1, padding is \"SAME\"\n",
    " - **ReLU**\n",
    " - **MaxPool2D**: Use a 4 by 4 filter size and a 4 by 4 stride, padding is \"SAME\"\n",
    " - [Flatten](https://www.tensorflow.org/api_docs/python/tf/keras/layers/Flatten) the previous output.\n",
    " - Fully-connected ([Dense](https://www.tensorflow.org/api_docs/python/tf/keras/layers/Dense)) layer: Apply a fully connected layer with 6 neurons and a softmax activation. "
   ]
  },
  {
   "cell_type": "code",
   "execution_count": 19,
   "metadata": {
    "deletable": false,
    "nbgrader": {
     "cell_type": "code",
     "checksum": "f58643806aa8380c96225fc8b4c5e7aa",
     "grade": false,
     "grade_id": "cell-dac51744a9e03f51",
     "locked": false,
     "schema_version": 3,
     "solution": true,
     "task": false
    }
   },
   "outputs": [],
   "source": [
    "# GRADED FUNCTION: convolutional_model\n",
    "\n",
    "def convolutional_model(input_shape):\n",
    "    \"\"\"\n",
    "    Implements the forward propagation for the model:\n",
    "    CONV2D -> RELU -> MAXPOOL -> CONV2D -> RELU -> MAXPOOL -> FLATTEN -> DENSE\n",
    "    \n",
    "    Note that for simplicity and grading purposes, you'll hard-code some values\n",
    "    such as the stride and kernel (filter) sizes. \n",
    "    Normally, functions should take these values as function parameters.\n",
    "    \n",
    "    Arguments:\n",
    "    input_img -- input dataset, of shape (input_shape)\n",
    "\n",
    "    Returns:\n",
    "    model -- TF Keras model (object containing the information for the entire training process) \n",
    "    \"\"\"\n",
    "\n",
    "    input_img = tf.keras.Input(shape=input_shape)\n",
    "    ## CONV2D: 8 filters 4x4, stride of 1, padding 'SAME'\n",
    "    Z1 = tfl.Conv2D(filters= 8. , kernel_size=4 , padding='same',strides=1)(input_img)\n",
    "    ## RELU\n",
    "    A1 = tfl.ReLU()(Z1)\n",
    "    ## MAXPOOL: window 8x8, stride 8, padding 'SAME'\n",
    "    P1 = tfl.MaxPool2D(pool_size=8, strides=8, padding='SAME')(A1)\n",
    "    ## CONV2D: 16 filters 2x2, stride 1, padding 'SAME'\n",
    "    Z2 = tfl.Conv2D(filters= 16. , kernel_size=2 , padding='same',strides=1)(P1)\n",
    "    ## RELU\n",
    "    A2 =  tfl.ReLU()(Z2)\n",
    "    ## MAXPOOL: window 4x4, stride 4, padding 'SAME'\n",
    "    P2 = tfl.MaxPool2D(pool_size=4, strides=4, padding='SAME')(A2)\n",
    "    ## FLATTEN\n",
    "    F = tfl.Flatten()(P2)\n",
    "    ## Dense layer\n",
    "    ## 6 neurons in output layer. Hint: one of the arguments should be \"activation='softmax'\" \n",
    "    outputs = tfl.Dense(units= 6 , activation='softmax')(F)\n",
    "    model = tf.keras.Model(inputs=input_img, outputs=outputs)\n",
    "    return model"
   ]
  },
  {
   "cell_type": "code",
   "execution_count": 20,
   "metadata": {
    "deletable": false,
    "editable": false,
    "nbgrader": {
     "cell_type": "code",
     "checksum": "483d626949930a0b0ef20997e7c6ba72",
     "grade": true,
     "grade_id": "cell-45d22e92042174c9",
     "locked": true,
     "points": 10,
     "schema_version": 3,
     "solution": false,
     "task": false
    }
   },
   "outputs": [
    {
     "name": "stdout",
     "output_type": "stream",
     "text": [
      "Model: \"model\"\n",
      "_________________________________________________________________\n",
      " Layer (type)                Output Shape              Param #   \n",
      "=================================================================\n",
      " input_2 (InputLayer)        [(None, 64, 64, 3)]       0         \n",
      "                                                                 \n",
      " conv2d_1 (Conv2D)           (None, 64, 64, 8)         392       \n",
      "                                                                 \n",
      " re_lu_1 (ReLU)              (None, 64, 64, 8)         0         \n",
      "                                                                 \n",
      " max_pooling2d_1 (MaxPooling  (None, 8, 8, 8)          0         \n",
      " 2D)                                                             \n",
      "                                                                 \n",
      " conv2d_2 (Conv2D)           (None, 8, 8, 16)          528       \n",
      "                                                                 \n",
      " re_lu_2 (ReLU)              (None, 8, 8, 16)          0         \n",
      "                                                                 \n",
      " max_pooling2d_2 (MaxPooling  (None, 2, 2, 16)         0         \n",
      " 2D)                                                             \n",
      "                                                                 \n",
      " flatten_1 (Flatten)         (None, 64)                0         \n",
      "                                                                 \n",
      " dense_1 (Dense)             (None, 6)                 390       \n",
      "                                                                 \n",
      "=================================================================\n",
      "Total params: 1,310\n",
      "Trainable params: 1,310\n",
      "Non-trainable params: 0\n",
      "_________________________________________________________________\n",
      "\u001b[32mAll tests passed!\u001b[0m\n"
     ]
    }
   ],
   "source": [
    "conv_model = convolutional_model((64, 64, 3))\n",
    "conv_model.compile(optimizer='adam',\n",
    "                  loss='categorical_crossentropy',\n",
    "                  metrics=['accuracy'])\n",
    "conv_model.summary()\n",
    "    \n",
    "output = [['InputLayer', [(None, 64, 64, 3)], 0],\n",
    "        ['Conv2D', (None, 64, 64, 8), 392, 'same', 'linear', 'GlorotUniform'],\n",
    "        ['ReLU', (None, 64, 64, 8), 0],\n",
    "        ['MaxPooling2D', (None, 8, 8, 8), 0, (8, 8), (8, 8), 'same'],\n",
    "        ['Conv2D', (None, 8, 8, 16), 528, 'same', 'linear', 'GlorotUniform'],\n",
    "        ['ReLU', (None, 8, 8, 16), 0],\n",
    "        ['MaxPooling2D', (None, 2, 2, 16), 0, (4, 4), (4, 4), 'same'],\n",
    "        ['Flatten', (None, 64), 0],\n",
    "        ['Dense', (None, 6), 390, 'softmax']]\n",
    "    \n",
    "comparator(summary(conv_model), output)"
   ]
  },
  {
   "cell_type": "markdown",
   "metadata": {},
   "source": [
    "Both the Sequential and Functional APIs return a TF Keras model object. The only difference is how inputs are handled inside the object model! "
   ]
  },
  {
   "cell_type": "markdown",
   "metadata": {},
   "source": [
    "<a name='4-4'></a>\n",
    "### 4.4 - Train the Model"
   ]
  },
  {
   "cell_type": "code",
   "execution_count": 21,
   "metadata": {},
   "outputs": [
    {
     "name": "stdout",
     "output_type": "stream",
     "text": [
      "Epoch 1/100\n",
      "17/17 [==============================] - 2s 70ms/step - loss: 1.7949 - accuracy: 0.1694 - val_loss: 1.7841 - val_accuracy: 0.1750\n",
      "Epoch 2/100\n",
      "17/17 [==============================] - 1s 57ms/step - loss: 1.7856 - accuracy: 0.1944 - val_loss: 1.7797 - val_accuracy: 0.2250\n",
      "Epoch 3/100\n",
      "17/17 [==============================] - 1s 56ms/step - loss: 1.7820 - accuracy: 0.2185 - val_loss: 1.7767 - val_accuracy: 0.2667\n",
      "Epoch 4/100\n",
      "17/17 [==============================] - 1s 59ms/step - loss: 1.7785 - accuracy: 0.2463 - val_loss: 1.7729 - val_accuracy: 0.3000\n",
      "Epoch 5/100\n",
      "17/17 [==============================] - 1s 58ms/step - loss: 1.7747 - accuracy: 0.2648 - val_loss: 1.7695 - val_accuracy: 0.2833\n",
      "Epoch 6/100\n",
      "17/17 [==============================] - 1s 59ms/step - loss: 1.7699 - accuracy: 0.2630 - val_loss: 1.7644 - val_accuracy: 0.2833\n",
      "Epoch 7/100\n",
      "17/17 [==============================] - 1s 65ms/step - loss: 1.7637 - accuracy: 0.2944 - val_loss: 1.7564 - val_accuracy: 0.3000\n",
      "Epoch 8/100\n",
      "17/17 [==============================] - 1s 77ms/step - loss: 1.7555 - accuracy: 0.3000 - val_loss: 1.7472 - val_accuracy: 0.3167\n",
      "Epoch 9/100\n",
      "17/17 [==============================] - 1s 66ms/step - loss: 1.7462 - accuracy: 0.3222 - val_loss: 1.7379 - val_accuracy: 0.3000\n",
      "Epoch 10/100\n",
      "17/17 [==============================] - 1s 69ms/step - loss: 1.7347 - accuracy: 0.3315 - val_loss: 1.7265 - val_accuracy: 0.3083\n",
      "Epoch 11/100\n",
      "17/17 [==============================] - 1s 68ms/step - loss: 1.7207 - accuracy: 0.3463 - val_loss: 1.7128 - val_accuracy: 0.3250\n",
      "Epoch 12/100\n",
      "17/17 [==============================] - 1s 68ms/step - loss: 1.7038 - accuracy: 0.3491 - val_loss: 1.6963 - val_accuracy: 0.3250\n",
      "Epoch 13/100\n",
      "17/17 [==============================] - 1s 66ms/step - loss: 1.6815 - accuracy: 0.3630 - val_loss: 1.6757 - val_accuracy: 0.3250\n",
      "Epoch 14/100\n",
      "17/17 [==============================] - 1s 72ms/step - loss: 1.6560 - accuracy: 0.3731 - val_loss: 1.6531 - val_accuracy: 0.3417\n",
      "Epoch 15/100\n",
      "17/17 [==============================] - 1s 68ms/step - loss: 1.6272 - accuracy: 0.3926 - val_loss: 1.6284 - val_accuracy: 0.3750\n",
      "Epoch 16/100\n",
      "17/17 [==============================] - 1s 67ms/step - loss: 1.5949 - accuracy: 0.4000 - val_loss: 1.6008 - val_accuracy: 0.3750\n",
      "Epoch 17/100\n",
      "17/17 [==============================] - 1s 64ms/step - loss: 1.5587 - accuracy: 0.4139 - val_loss: 1.5704 - val_accuracy: 0.3917\n",
      "Epoch 18/100\n",
      "17/17 [==============================] - 1s 63ms/step - loss: 1.5194 - accuracy: 0.4435 - val_loss: 1.5357 - val_accuracy: 0.4000\n",
      "Epoch 19/100\n",
      "17/17 [==============================] - 1s 64ms/step - loss: 1.4781 - accuracy: 0.4741 - val_loss: 1.5017 - val_accuracy: 0.4167\n",
      "Epoch 20/100\n",
      "17/17 [==============================] - 1s 64ms/step - loss: 1.4380 - accuracy: 0.4898 - val_loss: 1.4659 - val_accuracy: 0.4250\n",
      "Epoch 21/100\n",
      "17/17 [==============================] - 1s 70ms/step - loss: 1.3970 - accuracy: 0.5102 - val_loss: 1.4329 - val_accuracy: 0.4500\n",
      "Epoch 22/100\n",
      "17/17 [==============================] - 1s 76ms/step - loss: 1.3564 - accuracy: 0.5250 - val_loss: 1.3993 - val_accuracy: 0.4583\n",
      "Epoch 23/100\n",
      "17/17 [==============================] - 1s 85ms/step - loss: 1.3196 - accuracy: 0.5343 - val_loss: 1.3712 - val_accuracy: 0.4667\n",
      "Epoch 24/100\n",
      "17/17 [==============================] - 2s 91ms/step - loss: 1.2845 - accuracy: 0.5454 - val_loss: 1.3420 - val_accuracy: 0.4833\n",
      "Epoch 25/100\n",
      "17/17 [==============================] - 1s 84ms/step - loss: 1.2530 - accuracy: 0.5620 - val_loss: 1.3157 - val_accuracy: 0.5167\n",
      "Epoch 26/100\n",
      "17/17 [==============================] - 2s 91ms/step - loss: 1.2231 - accuracy: 0.5694 - val_loss: 1.2935 - val_accuracy: 0.5000\n",
      "Epoch 27/100\n",
      "17/17 [==============================] - 2s 104ms/step - loss: 1.1960 - accuracy: 0.5796 - val_loss: 1.2723 - val_accuracy: 0.5167\n",
      "Epoch 28/100\n",
      "17/17 [==============================] - 2s 93ms/step - loss: 1.1716 - accuracy: 0.5926 - val_loss: 1.2511 - val_accuracy: 0.5333\n",
      "Epoch 29/100\n",
      "17/17 [==============================] - 2s 104ms/step - loss: 1.1482 - accuracy: 0.6028 - val_loss: 1.2322 - val_accuracy: 0.5333\n",
      "Epoch 30/100\n",
      "17/17 [==============================] - 2s 92ms/step - loss: 1.1267 - accuracy: 0.6130 - val_loss: 1.2128 - val_accuracy: 0.5417\n",
      "Epoch 31/100\n",
      "17/17 [==============================] - 2s 90ms/step - loss: 1.1068 - accuracy: 0.6167 - val_loss: 1.1937 - val_accuracy: 0.5500\n",
      "Epoch 32/100\n",
      "17/17 [==============================] - 2s 93ms/step - loss: 1.0886 - accuracy: 0.6204 - val_loss: 1.1736 - val_accuracy: 0.5750\n",
      "Epoch 33/100\n",
      "17/17 [==============================] - 2s 94ms/step - loss: 1.0709 - accuracy: 0.6278 - val_loss: 1.1579 - val_accuracy: 0.5750\n",
      "Epoch 34/100\n",
      "17/17 [==============================] - 1s 83ms/step - loss: 1.0538 - accuracy: 0.6315 - val_loss: 1.1435 - val_accuracy: 0.5750\n",
      "Epoch 35/100\n",
      "17/17 [==============================] - 1s 78ms/step - loss: 1.0376 - accuracy: 0.6370 - val_loss: 1.1315 - val_accuracy: 0.5750\n",
      "Epoch 36/100\n",
      "17/17 [==============================] - 1s 85ms/step - loss: 1.0222 - accuracy: 0.6398 - val_loss: 1.1190 - val_accuracy: 0.5833\n",
      "Epoch 37/100\n",
      "17/17 [==============================] - 1s 86ms/step - loss: 1.0069 - accuracy: 0.6500 - val_loss: 1.1069 - val_accuracy: 0.5583\n",
      "Epoch 38/100\n",
      "17/17 [==============================] - 1s 81ms/step - loss: 0.9918 - accuracy: 0.6583 - val_loss: 1.0877 - val_accuracy: 0.5750\n",
      "Epoch 39/100\n",
      "17/17 [==============================] - 1s 79ms/step - loss: 0.9806 - accuracy: 0.6546 - val_loss: 1.0782 - val_accuracy: 0.5750\n",
      "Epoch 40/100\n",
      "17/17 [==============================] - 1s 84ms/step - loss: 0.9688 - accuracy: 0.6694 - val_loss: 1.0655 - val_accuracy: 0.5750\n",
      "Epoch 41/100\n",
      "17/17 [==============================] - 2s 91ms/step - loss: 0.9564 - accuracy: 0.6694 - val_loss: 1.0603 - val_accuracy: 0.5833\n",
      "Epoch 42/100\n",
      "17/17 [==============================] - 1s 83ms/step - loss: 0.9437 - accuracy: 0.6694 - val_loss: 1.0417 - val_accuracy: 0.5917\n",
      "Epoch 43/100\n",
      "17/17 [==============================] - 1s 78ms/step - loss: 0.9319 - accuracy: 0.6778 - val_loss: 1.0357 - val_accuracy: 0.5833\n",
      "Epoch 44/100\n",
      "17/17 [==============================] - 1s 81ms/step - loss: 0.9201 - accuracy: 0.6722 - val_loss: 1.0242 - val_accuracy: 0.5917\n",
      "Epoch 45/100\n",
      "17/17 [==============================] - 1s 88ms/step - loss: 0.9080 - accuracy: 0.6787 - val_loss: 1.0138 - val_accuracy: 0.5833\n",
      "Epoch 46/100\n",
      "17/17 [==============================] - 2s 118ms/step - loss: 0.8975 - accuracy: 0.6815 - val_loss: 1.0036 - val_accuracy: 0.5833\n",
      "Epoch 47/100\n",
      "17/17 [==============================] - 2s 100ms/step - loss: 0.8869 - accuracy: 0.6926 - val_loss: 0.9952 - val_accuracy: 0.6000\n",
      "Epoch 48/100\n",
      "17/17 [==============================] - 2s 89ms/step - loss: 0.8757 - accuracy: 0.6981 - val_loss: 0.9874 - val_accuracy: 0.5917\n",
      "Epoch 49/100\n",
      "17/17 [==============================] - 2s 99ms/step - loss: 0.8658 - accuracy: 0.7028 - val_loss: 0.9765 - val_accuracy: 0.6000\n",
      "Epoch 50/100\n",
      "17/17 [==============================] - 2s 96ms/step - loss: 0.8570 - accuracy: 0.7046 - val_loss: 0.9680 - val_accuracy: 0.6000\n",
      "Epoch 51/100\n",
      "17/17 [==============================] - 2s 103ms/step - loss: 0.8476 - accuracy: 0.7074 - val_loss: 0.9605 - val_accuracy: 0.5917\n",
      "Epoch 52/100\n",
      "17/17 [==============================] - 2s 138ms/step - loss: 0.8372 - accuracy: 0.7093 - val_loss: 0.9524 - val_accuracy: 0.6083\n",
      "Epoch 53/100\n",
      "17/17 [==============================] - 2s 97ms/step - loss: 0.8284 - accuracy: 0.7139 - val_loss: 0.9430 - val_accuracy: 0.6083\n",
      "Epoch 54/100\n",
      "17/17 [==============================] - 2s 105ms/step - loss: 0.8187 - accuracy: 0.7185 - val_loss: 0.9359 - val_accuracy: 0.6250\n",
      "Epoch 55/100\n",
      "17/17 [==============================] - 2s 89ms/step - loss: 0.8101 - accuracy: 0.7259 - val_loss: 0.9267 - val_accuracy: 0.6333\n",
      "Epoch 56/100\n",
      "17/17 [==============================] - 2s 85ms/step - loss: 0.8000 - accuracy: 0.7287 - val_loss: 0.9181 - val_accuracy: 0.6583\n",
      "Epoch 57/100\n",
      "17/17 [==============================] - 1s 76ms/step - loss: 0.7907 - accuracy: 0.7296 - val_loss: 0.9103 - val_accuracy: 0.6417\n",
      "Epoch 58/100\n",
      "17/17 [==============================] - 1s 75ms/step - loss: 0.7830 - accuracy: 0.7296 - val_loss: 0.9018 - val_accuracy: 0.6500\n",
      "Epoch 59/100\n",
      "17/17 [==============================] - 1s 76ms/step - loss: 0.7741 - accuracy: 0.7343 - val_loss: 0.8919 - val_accuracy: 0.6333\n",
      "Epoch 60/100\n",
      "17/17 [==============================] - 1s 78ms/step - loss: 0.7644 - accuracy: 0.7352 - val_loss: 0.8853 - val_accuracy: 0.6500\n",
      "Epoch 61/100\n",
      "17/17 [==============================] - 1s 81ms/step - loss: 0.7556 - accuracy: 0.7435 - val_loss: 0.8765 - val_accuracy: 0.6417\n",
      "Epoch 62/100\n",
      "17/17 [==============================] - 1s 73ms/step - loss: 0.7475 - accuracy: 0.7491 - val_loss: 0.8711 - val_accuracy: 0.6500\n",
      "Epoch 63/100\n",
      "17/17 [==============================] - 1s 74ms/step - loss: 0.7392 - accuracy: 0.7500 - val_loss: 0.8617 - val_accuracy: 0.6500\n",
      "Epoch 64/100\n",
      "17/17 [==============================] - 1s 79ms/step - loss: 0.7314 - accuracy: 0.7537 - val_loss: 0.8575 - val_accuracy: 0.6667\n",
      "Epoch 65/100\n",
      "17/17 [==============================] - 1s 74ms/step - loss: 0.7237 - accuracy: 0.7602 - val_loss: 0.8498 - val_accuracy: 0.6500\n",
      "Epoch 66/100\n",
      "17/17 [==============================] - 1s 73ms/step - loss: 0.7162 - accuracy: 0.7602 - val_loss: 0.8421 - val_accuracy: 0.6500\n",
      "Epoch 67/100\n",
      "17/17 [==============================] - 1s 77ms/step - loss: 0.7092 - accuracy: 0.7648 - val_loss: 0.8356 - val_accuracy: 0.6583\n",
      "Epoch 68/100\n",
      "17/17 [==============================] - 1s 78ms/step - loss: 0.7028 - accuracy: 0.7685 - val_loss: 0.8303 - val_accuracy: 0.6500\n",
      "Epoch 69/100\n",
      "17/17 [==============================] - 1s 77ms/step - loss: 0.6961 - accuracy: 0.7722 - val_loss: 0.8231 - val_accuracy: 0.6500\n",
      "Epoch 70/100\n",
      "17/17 [==============================] - 1s 74ms/step - loss: 0.6900 - accuracy: 0.7722 - val_loss: 0.8176 - val_accuracy: 0.6583\n",
      "Epoch 71/100\n",
      "17/17 [==============================] - 1s 76ms/step - loss: 0.6806 - accuracy: 0.7759 - val_loss: 0.8027 - val_accuracy: 0.6417\n",
      "Epoch 72/100\n",
      "17/17 [==============================] - 1s 85ms/step - loss: 0.6736 - accuracy: 0.7824 - val_loss: 0.7956 - val_accuracy: 0.6417\n",
      "Epoch 73/100\n",
      "17/17 [==============================] - 1s 82ms/step - loss: 0.6663 - accuracy: 0.7815 - val_loss: 0.7872 - val_accuracy: 0.6417\n",
      "Epoch 74/100\n",
      "17/17 [==============================] - 1s 78ms/step - loss: 0.6598 - accuracy: 0.7861 - val_loss: 0.7809 - val_accuracy: 0.6417\n",
      "Epoch 75/100\n",
      "17/17 [==============================] - 1s 81ms/step - loss: 0.6524 - accuracy: 0.7880 - val_loss: 0.7740 - val_accuracy: 0.6667\n",
      "Epoch 76/100\n",
      "17/17 [==============================] - 1s 76ms/step - loss: 0.6449 - accuracy: 0.7889 - val_loss: 0.7698 - val_accuracy: 0.6500\n",
      "Epoch 77/100\n",
      "17/17 [==============================] - 1s 77ms/step - loss: 0.6392 - accuracy: 0.7954 - val_loss: 0.7627 - val_accuracy: 0.6667\n",
      "Epoch 78/100\n",
      "17/17 [==============================] - 1s 75ms/step - loss: 0.6328 - accuracy: 0.7991 - val_loss: 0.7578 - val_accuracy: 0.6500\n",
      "Epoch 79/100\n",
      "17/17 [==============================] - 1s 74ms/step - loss: 0.6277 - accuracy: 0.8009 - val_loss: 0.7529 - val_accuracy: 0.6667\n",
      "Epoch 80/100\n",
      "17/17 [==============================] - 1s 73ms/step - loss: 0.6201 - accuracy: 0.8065 - val_loss: 0.7483 - val_accuracy: 0.6667\n",
      "Epoch 81/100\n",
      "17/17 [==============================] - 1s 73ms/step - loss: 0.6135 - accuracy: 0.8120 - val_loss: 0.7401 - val_accuracy: 0.6750\n",
      "Epoch 82/100\n",
      "17/17 [==============================] - 1s 75ms/step - loss: 0.6077 - accuracy: 0.8111 - val_loss: 0.7360 - val_accuracy: 0.6833\n",
      "Epoch 83/100\n",
      "17/17 [==============================] - 1s 74ms/step - loss: 0.6021 - accuracy: 0.8130 - val_loss: 0.7304 - val_accuracy: 0.6750\n",
      "Epoch 84/100\n",
      "17/17 [==============================] - 1s 74ms/step - loss: 0.5963 - accuracy: 0.8157 - val_loss: 0.7281 - val_accuracy: 0.6917\n",
      "Epoch 85/100\n",
      "17/17 [==============================] - 1s 75ms/step - loss: 0.5907 - accuracy: 0.8157 - val_loss: 0.7229 - val_accuracy: 0.7000\n",
      "Epoch 86/100\n",
      "17/17 [==============================] - 1s 75ms/step - loss: 0.5859 - accuracy: 0.8148 - val_loss: 0.7181 - val_accuracy: 0.7167\n",
      "Epoch 87/100\n",
      "17/17 [==============================] - 1s 75ms/step - loss: 0.5805 - accuracy: 0.8167 - val_loss: 0.7156 - val_accuracy: 0.7083\n",
      "Epoch 88/100\n",
      "17/17 [==============================] - 1s 82ms/step - loss: 0.5767 - accuracy: 0.8176 - val_loss: 0.7127 - val_accuracy: 0.7083\n",
      "Epoch 89/100\n",
      "17/17 [==============================] - 1s 75ms/step - loss: 0.5724 - accuracy: 0.8185 - val_loss: 0.7103 - val_accuracy: 0.7083\n",
      "Epoch 90/100\n",
      "17/17 [==============================] - 1s 84ms/step - loss: 0.5677 - accuracy: 0.8222 - val_loss: 0.7088 - val_accuracy: 0.7167\n",
      "Epoch 91/100\n",
      "17/17 [==============================] - 1s 88ms/step - loss: 0.5638 - accuracy: 0.8204 - val_loss: 0.7055 - val_accuracy: 0.7167\n",
      "Epoch 92/100\n",
      "17/17 [==============================] - 1s 76ms/step - loss: 0.5591 - accuracy: 0.8241 - val_loss: 0.7020 - val_accuracy: 0.7250\n",
      "Epoch 93/100\n",
      "17/17 [==============================] - 1s 75ms/step - loss: 0.5547 - accuracy: 0.8231 - val_loss: 0.6996 - val_accuracy: 0.7333\n",
      "Epoch 94/100\n",
      "17/17 [==============================] - 1s 75ms/step - loss: 0.5506 - accuracy: 0.8278 - val_loss: 0.6957 - val_accuracy: 0.7250\n",
      "Epoch 95/100\n",
      "17/17 [==============================] - 1s 74ms/step - loss: 0.5469 - accuracy: 0.8241 - val_loss: 0.6928 - val_accuracy: 0.7333\n",
      "Epoch 96/100\n",
      "17/17 [==============================] - 1s 74ms/step - loss: 0.5417 - accuracy: 0.8315 - val_loss: 0.6895 - val_accuracy: 0.7417\n",
      "Epoch 97/100\n",
      "17/17 [==============================] - 1s 74ms/step - loss: 0.5385 - accuracy: 0.8287 - val_loss: 0.6869 - val_accuracy: 0.7417\n",
      "Epoch 98/100\n",
      "17/17 [==============================] - 1s 74ms/step - loss: 0.5342 - accuracy: 0.8287 - val_loss: 0.6848 - val_accuracy: 0.7417\n",
      "Epoch 99/100\n",
      "17/17 [==============================] - 1s 77ms/step - loss: 0.5312 - accuracy: 0.8324 - val_loss: 0.6814 - val_accuracy: 0.7417\n",
      "Epoch 100/100\n",
      "17/17 [==============================] - 1s 76ms/step - loss: 0.5276 - accuracy: 0.8343 - val_loss: 0.6817 - val_accuracy: 0.7417\n"
     ]
    }
   ],
   "source": [
    "train_dataset = tf.data.Dataset.from_tensor_slices((X_train, Y_train)).batch(64)\n",
    "test_dataset = tf.data.Dataset.from_tensor_slices((X_test, Y_test)).batch(64)\n",
    "history = conv_model.fit(train_dataset, epochs=100, validation_data=test_dataset)"
   ]
  },
  {
   "cell_type": "markdown",
   "metadata": {},
   "source": [
    "<a name='5'></a>\n",
    "## 5 - History Object \n",
    "\n",
    "The history object is an output of the `.fit()` operation, and provides a record of all the loss and metric values in memory. It's stored as a dictionary that you can retrieve at `history.history`: "
   ]
  },
  {
   "cell_type": "code",
   "execution_count": 22,
   "metadata": {},
   "outputs": [
    {
     "data": {
      "text/plain": [
       "{'loss': [1.7949382066726685,\n",
       "  1.7856216430664062,\n",
       "  1.7820467948913574,\n",
       "  1.778499960899353,\n",
       "  1.7747042179107666,\n",
       "  1.7699236869812012,\n",
       "  1.7637141942977905,\n",
       "  1.7554917335510254,\n",
       "  1.7462060451507568,\n",
       "  1.7346621751785278,\n",
       "  1.7207188606262207,\n",
       "  1.703791618347168,\n",
       "  1.6815463304519653,\n",
       "  1.6559611558914185,\n",
       "  1.627150058746338,\n",
       "  1.5949454307556152,\n",
       "  1.558745265007019,\n",
       "  1.5194220542907715,\n",
       "  1.4781383275985718,\n",
       "  1.43798828125,\n",
       "  1.3970412015914917,\n",
       "  1.3564003705978394,\n",
       "  1.3195875883102417,\n",
       "  1.2845368385314941,\n",
       "  1.2529611587524414,\n",
       "  1.2231303453445435,\n",
       "  1.1960127353668213,\n",
       "  1.1715761423110962,\n",
       "  1.1482053995132446,\n",
       "  1.1267365217208862,\n",
       "  1.1067873239517212,\n",
       "  1.0886406898498535,\n",
       "  1.07091224193573,\n",
       "  1.0537655353546143,\n",
       "  1.0376086235046387,\n",
       "  1.0222445726394653,\n",
       "  1.0069419145584106,\n",
       "  0.991809070110321,\n",
       "  0.9806157946586609,\n",
       "  0.9688364863395691,\n",
       "  0.9564098119735718,\n",
       "  0.9437494277954102,\n",
       "  0.9319074749946594,\n",
       "  0.9201299548149109,\n",
       "  0.9079840779304504,\n",
       "  0.8975211977958679,\n",
       "  0.8869005441665649,\n",
       "  0.8757042288780212,\n",
       "  0.8657640814781189,\n",
       "  0.8569981455802917,\n",
       "  0.8475937247276306,\n",
       "  0.8372308611869812,\n",
       "  0.828381359577179,\n",
       "  0.8187041282653809,\n",
       "  0.8100550770759583,\n",
       "  0.8000410795211792,\n",
       "  0.7907087206840515,\n",
       "  0.782968282699585,\n",
       "  0.7740774750709534,\n",
       "  0.7644065618515015,\n",
       "  0.7555778622627258,\n",
       "  0.747517466545105,\n",
       "  0.7391722202301025,\n",
       "  0.7313528656959534,\n",
       "  0.7237464189529419,\n",
       "  0.7161837816238403,\n",
       "  0.7092313766479492,\n",
       "  0.7027990818023682,\n",
       "  0.696077287197113,\n",
       "  0.6900244951248169,\n",
       "  0.680555522441864,\n",
       "  0.6735787987709045,\n",
       "  0.6662744879722595,\n",
       "  0.6597641110420227,\n",
       "  0.6523889899253845,\n",
       "  0.6448626518249512,\n",
       "  0.6391832232475281,\n",
       "  0.6328392028808594,\n",
       "  0.6276530027389526,\n",
       "  0.6201075911521912,\n",
       "  0.6135132908821106,\n",
       "  0.607674777507782,\n",
       "  0.6020621061325073,\n",
       "  0.5962600708007812,\n",
       "  0.590674102306366,\n",
       "  0.585898756980896,\n",
       "  0.5805447101593018,\n",
       "  0.5766626596450806,\n",
       "  0.5724276900291443,\n",
       "  0.5676783919334412,\n",
       "  0.5638094544410706,\n",
       "  0.5590692758560181,\n",
       "  0.5547478795051575,\n",
       "  0.5506024956703186,\n",
       "  0.5468584895133972,\n",
       "  0.5416721105575562,\n",
       "  0.5385290384292603,\n",
       "  0.5342224836349487,\n",
       "  0.531222403049469,\n",
       "  0.5275661945343018],\n",
       " 'accuracy': [0.16944444179534912,\n",
       "  0.1944444477558136,\n",
       "  0.21851852536201477,\n",
       "  0.24629630148410797,\n",
       "  0.2648148238658905,\n",
       "  0.2629629671573639,\n",
       "  0.2944444417953491,\n",
       "  0.30000001192092896,\n",
       "  0.3222222328186035,\n",
       "  0.3314814865589142,\n",
       "  0.3462963104248047,\n",
       "  0.3490740656852722,\n",
       "  0.3629629611968994,\n",
       "  0.3731481432914734,\n",
       "  0.39259257912635803,\n",
       "  0.4000000059604645,\n",
       "  0.4138889014720917,\n",
       "  0.4435185194015503,\n",
       "  0.4740740656852722,\n",
       "  0.489814817905426,\n",
       "  0.510185182094574,\n",
       "  0.5249999761581421,\n",
       "  0.5342592597007751,\n",
       "  0.5453703999519348,\n",
       "  0.5620370507240295,\n",
       "  0.5694444179534912,\n",
       "  0.5796296000480652,\n",
       "  0.5925925970077515,\n",
       "  0.6027777791023254,\n",
       "  0.6129629611968994,\n",
       "  0.6166666746139526,\n",
       "  0.6203703880310059,\n",
       "  0.6277777552604675,\n",
       "  0.6314814686775208,\n",
       "  0.6370370388031006,\n",
       "  0.6398147940635681,\n",
       "  0.6499999761581421,\n",
       "  0.6583333611488342,\n",
       "  0.654629647731781,\n",
       "  0.6694444417953491,\n",
       "  0.6694444417953491,\n",
       "  0.6694444417953491,\n",
       "  0.6777777671813965,\n",
       "  0.6722221970558167,\n",
       "  0.6787037253379822,\n",
       "  0.6814814805984497,\n",
       "  0.6925926208496094,\n",
       "  0.6981481313705444,\n",
       "  0.7027778029441833,\n",
       "  0.7046296000480652,\n",
       "  0.7074074149131775,\n",
       "  0.7092592716217041,\n",
       "  0.7138888835906982,\n",
       "  0.7185184955596924,\n",
       "  0.7259259223937988,\n",
       "  0.7287036776542664,\n",
       "  0.729629635810852,\n",
       "  0.729629635810852,\n",
       "  0.7342592477798462,\n",
       "  0.7351852059364319,\n",
       "  0.7435185313224792,\n",
       "  0.7490741014480591,\n",
       "  0.75,\n",
       "  0.7537037134170532,\n",
       "  0.760185182094574,\n",
       "  0.760185182094574,\n",
       "  0.7648147940635681,\n",
       "  0.7685185074806213,\n",
       "  0.7722222208976746,\n",
       "  0.7722222208976746,\n",
       "  0.7759259343147278,\n",
       "  0.7824074029922485,\n",
       "  0.7814815044403076,\n",
       "  0.7861111164093018,\n",
       "  0.7879629731178284,\n",
       "  0.7888888716697693,\n",
       "  0.7953703999519348,\n",
       "  0.7990740537643433,\n",
       "  0.8009259104728699,\n",
       "  0.8064814805984497,\n",
       "  0.8120370507240295,\n",
       "  0.8111110925674438,\n",
       "  0.8129629492759705,\n",
       "  0.8157407641410828,\n",
       "  0.8157407641410828,\n",
       "  0.8148148059844971,\n",
       "  0.8166666626930237,\n",
       "  0.8175926208496094,\n",
       "  0.8185185194015503,\n",
       "  0.8222222328186035,\n",
       "  0.8203703761100769,\n",
       "  0.8240740895271301,\n",
       "  0.8231481313705444,\n",
       "  0.8277778029441833,\n",
       "  0.8240740895271301,\n",
       "  0.8314814567565918,\n",
       "  0.8287037014961243,\n",
       "  0.8287037014961243,\n",
       "  0.8324074149131775,\n",
       "  0.8342592716217041],\n",
       " 'val_loss': [1.7841044664382935,\n",
       "  1.7797306776046753,\n",
       "  1.7767105102539062,\n",
       "  1.7728677988052368,\n",
       "  1.7695343494415283,\n",
       "  1.764402151107788,\n",
       "  1.7564241886138916,\n",
       "  1.7472014427185059,\n",
       "  1.7378889322280884,\n",
       "  1.7265238761901855,\n",
       "  1.7128254175186157,\n",
       "  1.696269154548645,\n",
       "  1.675701379776001,\n",
       "  1.6530721187591553,\n",
       "  1.6284304857254028,\n",
       "  1.6007933616638184,\n",
       "  1.5703601837158203,\n",
       "  1.5357437133789062,\n",
       "  1.5016978979110718,\n",
       "  1.4658987522125244,\n",
       "  1.4329302310943604,\n",
       "  1.3992760181427002,\n",
       "  1.371167540550232,\n",
       "  1.341962218284607,\n",
       "  1.3157315254211426,\n",
       "  1.2935019731521606,\n",
       "  1.272308349609375,\n",
       "  1.2510966062545776,\n",
       "  1.2322057485580444,\n",
       "  1.2127912044525146,\n",
       "  1.1937243938446045,\n",
       "  1.173629879951477,\n",
       "  1.1578830480575562,\n",
       "  1.1435226202011108,\n",
       "  1.131542682647705,\n",
       "  1.119019865989685,\n",
       "  1.1068977117538452,\n",
       "  1.0877113342285156,\n",
       "  1.0781503915786743,\n",
       "  1.0654598474502563,\n",
       "  1.060258388519287,\n",
       "  1.0416806936264038,\n",
       "  1.03572416305542,\n",
       "  1.0241843461990356,\n",
       "  1.0138055086135864,\n",
       "  1.0035734176635742,\n",
       "  0.9952285885810852,\n",
       "  0.9874017238616943,\n",
       "  0.9764905571937561,\n",
       "  0.9679555296897888,\n",
       "  0.9605280756950378,\n",
       "  0.9524027705192566,\n",
       "  0.9429993033409119,\n",
       "  0.9359131455421448,\n",
       "  0.9266825318336487,\n",
       "  0.9180858135223389,\n",
       "  0.9103307127952576,\n",
       "  0.9018057584762573,\n",
       "  0.8919039368629456,\n",
       "  0.885348916053772,\n",
       "  0.8765125274658203,\n",
       "  0.8711428046226501,\n",
       "  0.8616743683815002,\n",
       "  0.8574984073638916,\n",
       "  0.8497953414916992,\n",
       "  0.842145562171936,\n",
       "  0.8355520963668823,\n",
       "  0.8303030729293823,\n",
       "  0.8230753540992737,\n",
       "  0.8176218867301941,\n",
       "  0.8026523590087891,\n",
       "  0.79561448097229,\n",
       "  0.7872065901756287,\n",
       "  0.7808751463890076,\n",
       "  0.7740057706832886,\n",
       "  0.769827663898468,\n",
       "  0.7626563906669617,\n",
       "  0.7577670812606812,\n",
       "  0.7529073357582092,\n",
       "  0.7482680082321167,\n",
       "  0.7401235103607178,\n",
       "  0.7360309958457947,\n",
       "  0.7304050326347351,\n",
       "  0.7280901670455933,\n",
       "  0.7228738069534302,\n",
       "  0.7181341648101807,\n",
       "  0.7155653834342957,\n",
       "  0.7127247452735901,\n",
       "  0.7103275060653687,\n",
       "  0.708816647529602,\n",
       "  0.7055093050003052,\n",
       "  0.7019656300544739,\n",
       "  0.6996048092842102,\n",
       "  0.6957085728645325,\n",
       "  0.692831814289093,\n",
       "  0.6894856691360474,\n",
       "  0.6869418621063232,\n",
       "  0.6848050355911255,\n",
       "  0.6813793182373047,\n",
       "  0.6817247867584229],\n",
       " 'val_accuracy': [0.17499999701976776,\n",
       "  0.22499999403953552,\n",
       "  0.2666666805744171,\n",
       "  0.30000001192092896,\n",
       "  0.28333333134651184,\n",
       "  0.28333333134651184,\n",
       "  0.30000001192092896,\n",
       "  0.3166666626930237,\n",
       "  0.30000001192092896,\n",
       "  0.3083333373069763,\n",
       "  0.32499998807907104,\n",
       "  0.32499998807907104,\n",
       "  0.32499998807907104,\n",
       "  0.34166666865348816,\n",
       "  0.375,\n",
       "  0.375,\n",
       "  0.3916666805744171,\n",
       "  0.4000000059604645,\n",
       "  0.4166666567325592,\n",
       "  0.42500001192092896,\n",
       "  0.44999998807907104,\n",
       "  0.4583333432674408,\n",
       "  0.46666666865348816,\n",
       "  0.4833333194255829,\n",
       "  0.5166666507720947,\n",
       "  0.5,\n",
       "  0.5166666507720947,\n",
       "  0.5333333611488342,\n",
       "  0.5333333611488342,\n",
       "  0.5416666865348816,\n",
       "  0.550000011920929,\n",
       "  0.574999988079071,\n",
       "  0.574999988079071,\n",
       "  0.574999988079071,\n",
       "  0.574999988079071,\n",
       "  0.5833333134651184,\n",
       "  0.5583333373069763,\n",
       "  0.574999988079071,\n",
       "  0.574999988079071,\n",
       "  0.574999988079071,\n",
       "  0.5833333134651184,\n",
       "  0.5916666388511658,\n",
       "  0.5833333134651184,\n",
       "  0.5916666388511658,\n",
       "  0.5833333134651184,\n",
       "  0.5833333134651184,\n",
       "  0.6000000238418579,\n",
       "  0.5916666388511658,\n",
       "  0.6000000238418579,\n",
       "  0.6000000238418579,\n",
       "  0.5916666388511658,\n",
       "  0.6083333492279053,\n",
       "  0.6083333492279053,\n",
       "  0.625,\n",
       "  0.6333333253860474,\n",
       "  0.6583333611488342,\n",
       "  0.6416666507720947,\n",
       "  0.6499999761581421,\n",
       "  0.6333333253860474,\n",
       "  0.6499999761581421,\n",
       "  0.6416666507720947,\n",
       "  0.6499999761581421,\n",
       "  0.6499999761581421,\n",
       "  0.6666666865348816,\n",
       "  0.6499999761581421,\n",
       "  0.6499999761581421,\n",
       "  0.6583333611488342,\n",
       "  0.6499999761581421,\n",
       "  0.6499999761581421,\n",
       "  0.6583333611488342,\n",
       "  0.6416666507720947,\n",
       "  0.6416666507720947,\n",
       "  0.6416666507720947,\n",
       "  0.6416666507720947,\n",
       "  0.6666666865348816,\n",
       "  0.6499999761581421,\n",
       "  0.6666666865348816,\n",
       "  0.6499999761581421,\n",
       "  0.6666666865348816,\n",
       "  0.6666666865348816,\n",
       "  0.675000011920929,\n",
       "  0.6833333373069763,\n",
       "  0.675000011920929,\n",
       "  0.6916666626930237,\n",
       "  0.699999988079071,\n",
       "  0.7166666388511658,\n",
       "  0.7083333134651184,\n",
       "  0.7083333134651184,\n",
       "  0.7083333134651184,\n",
       "  0.7166666388511658,\n",
       "  0.7166666388511658,\n",
       "  0.7250000238418579,\n",
       "  0.7333333492279053,\n",
       "  0.7250000238418579,\n",
       "  0.7333333492279053,\n",
       "  0.7416666746139526,\n",
       "  0.7416666746139526,\n",
       "  0.7416666746139526,\n",
       "  0.7416666746139526,\n",
       "  0.7416666746139526]}"
      ]
     },
     "execution_count": 22,
     "metadata": {},
     "output_type": "execute_result"
    }
   ],
   "source": [
    "history.history"
   ]
  },
  {
   "cell_type": "markdown",
   "metadata": {},
   "source": [
    "Now visualize the loss over time using `history.history`: "
   ]
  },
  {
   "cell_type": "code",
   "execution_count": 24,
   "metadata": {},
   "outputs": [
    {
     "name": "stderr",
     "output_type": "stream",
     "text": [
      "C:\\Users\\Public\\Documents\\Wondershare\\CreatorTemp\\ipykernel_16800\\1650645686.py:5: SettingWithCopyWarning: \n",
      "A value is trying to be set on a copy of a slice from a DataFrame\n",
      "\n",
      "See the caveats in the documentation: https://pandas.pydata.org/pandas-docs/stable/user_guide/indexing.html#returning-a-view-versus-a-copy\n",
      "  df_loss.rename(columns={'loss':'train','val_loss':'validation'},inplace=True)\n",
      "C:\\Users\\Public\\Documents\\Wondershare\\CreatorTemp\\ipykernel_16800\\1650645686.py:7: SettingWithCopyWarning: \n",
      "A value is trying to be set on a copy of a slice from a DataFrame\n",
      "\n",
      "See the caveats in the documentation: https://pandas.pydata.org/pandas-docs/stable/user_guide/indexing.html#returning-a-view-versus-a-copy\n",
      "  df_acc.rename(columns={'accuracy':'train','val_accuracy':'validation'},inplace=True)\n"
     ]
    },
    {
     "data": {
      "text/plain": [
       "[Text(0.5, 0, 'Epoch'), Text(0, 0.5, 'Accuracy')]"
      ]
     },
     "execution_count": 24,
     "metadata": {},
     "output_type": "execute_result"
    },
    {
     "data": {
      "image/png": "[encoded data removed]",
      "text/plain": [
       "<Figure size 864x576 with 1 Axes>"
      ]
     },
     "metadata": {
      "needs_background": "light"
     },
     "output_type": "display_data"
    },
    {
     "data": {
      "image/png": "[encoded data removed]",
      "text/plain": [
       "<Figure size 864x576 with 1 Axes>"
      ]
     },
     "metadata": {
      "needs_background": "light"
     },
     "output_type": "display_data"
    }
   ],
   "source": [
    "# The history.history[\"loss\"] entry is a dictionary with as many values as epochs that the\n",
    "# model was trained on. \n",
    "df_loss_acc = pd.DataFrame(history.history)\n",
    "df_loss = df_loss_acc[['loss','val_loss']]\n",
    "df_loss.rename(columns={'loss':'train','val_loss':'validation'},inplace=True)\n",
    "df_acc = df_loss_acc[['accuracy','val_accuracy']]\n",
    "df_acc.rename(columns={'accuracy':'train','val_accuracy':'validation'},inplace=True)\n",
    "df_loss.plot(title='Model loss',figsize=(12,8)).set(xlabel='Epoch',ylabel='Loss')\n",
    "df_acc.plot(title='Model Accuracy',figsize=(12,8)).set(xlabel='Epoch',ylabel='Accuracy')"
   ]
  },
  {
   "cell_type": "markdown",
   "metadata": {},
   "source": [
    "**Congratulations**! You've finished the assignment and built two models: One that recognizes  smiles, and another that recognizes SIGN language with almost 80% accuracy on the test set. In addition to that, you now also understand the applications of two Keras APIs: Sequential and Functional. Nicely done! \n",
    "\n",
    "By now, you know a bit about how the Functional API works and may have glimpsed the possibilities. In your next assignment, you'll really get a feel for its power when you get the opportunity to build a very deep ConvNet, using ResNets! "
   ]
  },
  {
   "cell_type": "markdown",
   "metadata": {},
   "source": [
    "<a name='6'></a>\n",
    "## 6 - Bibliography\n",
    "\n",
    "You're always encouraged to read the official documentation. To that end, you can find the docs for the Sequential and Functional APIs here: \n",
    "\n",
    "https://www.tensorflow.org/guide/keras/sequential_model\n",
    "\n",
    "https://www.tensorflow.org/guide/keras/functional"
   ]
  }
 ],
 "metadata": {
  "coursera": {
   "course_slug": "convolutional-neural-networks",
   "graded_item_id": "bwbJV",
   "launcher_item_id": "0TkXB"
  },
  "interpreter": {
   "hash": "3fd354f3dfa0138caf99440992ee2f7f5d3e6ecc280b4be3da36380feff61ffa"
  },
  "kernelspec": {
   "display_name": "Python 3.10.4 64-bit",
   "language": "python",
   "name": "python3"
  },
  "language_info": {
   "codemirror_mode": {
    "name": "ipython",
    "version": 3
   },
   "file_extension": ".py",
   "mimetype": "text/x-python",
   "name": "python",
   "nbconvert_exporter": "python",
   "pygments_lexer": "ipython3",
   "version": "3.10.4"
  }
 },
 "nbformat": 4,
 "nbformat_minor": 2
}
